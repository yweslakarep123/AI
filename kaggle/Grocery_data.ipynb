{
  "nbformat": 4,
  "nbformat_minor": 0,
  "metadata": {
    "colab": {
      "provenance": [],
      "authorship_tag": "ABX9TyMVDEO9tK3lZLlcqpN/XnmB",
      "include_colab_link": true
    },
    "kernelspec": {
      "name": "python3",
      "display_name": "Python 3"
    },
    "language_info": {
      "name": "python"
    }
  },
  "cells": [
    {
      "cell_type": "markdown",
      "metadata": {
        "id": "view-in-github",
        "colab_type": "text"
      },
      "source": [
        "<a href=\"https://colab.research.google.com/github/yweslakarep123/grocery1/blob/main/Grocery_data.ipynb\" target=\"_parent\"><img src=\"https://colab.research.google.com/assets/colab-badge.svg\" alt=\"Open In Colab\"/></a>"
      ]
    },
    {
      "cell_type": "code",
      "execution_count": 1,
      "metadata": {
        "id": "IOgHu2v-8X9W"
      },
      "outputs": [],
      "source": [
        "from google.colab import drive"
      ]
    },
    {
      "cell_type": "code",
      "source": [
        "drive.mount('/content/drive')"
      ],
      "metadata": {
        "id": "gmt0UE2g8ZlH",
        "colab": {
          "base_uri": "https://localhost:8080/"
        },
        "outputId": "f970795d-0819-402a-bf15-a6da5e48ebdf"
      },
      "execution_count": 3,
      "outputs": [
        {
          "output_type": "stream",
          "name": "stdout",
          "text": [
            "Mounted at /content/drive\n"
          ]
        }
      ]
    },
    {
      "cell_type": "code",
      "source": [
        "import os\n",
        "os.environ['KAGGLE_CONFIG_DIR'] = '/content'"
      ],
      "metadata": {
        "id": "nbwrJUAEvN9v"
      },
      "execution_count": 4,
      "outputs": []
    },
    {
      "cell_type": "code",
      "source": [
        "!chmod 600 /content/kaggle.json"
      ],
      "metadata": {
        "id": "c4qVYi5Dveao"
      },
      "execution_count": 5,
      "outputs": []
    },
    {
      "cell_type": "code",
      "source": [
        "!kaggle datasets download -d aryanverma99/grocery-prices-data-explore-shopping-trends"
      ],
      "metadata": {
        "colab": {
          "base_uri": "https://localhost:8080/"
        },
        "id": "Jpsxkx5WwCdT",
        "outputId": "8b150fcf-662e-4e18-fe14-7d4589ff3700"
      },
      "execution_count": 6,
      "outputs": [
        {
          "output_type": "stream",
          "name": "stdout",
          "text": [
            "Downloading grocery-prices-data-explore-shopping-trends.zip to /content\n",
            "\r  0% 0.00/28.0k [00:00<?, ?B/s]\n",
            "\r100% 28.0k/28.0k [00:00<00:00, 40.4MB/s]\n"
          ]
        }
      ]
    },
    {
      "cell_type": "code",
      "source": [
        "!pip install patool pyunpack"
      ],
      "metadata": {
        "colab": {
          "base_uri": "https://localhost:8080/"
        },
        "id": "j1fgtbd6wHbM",
        "outputId": "e6fa8516-e4a0-4b4b-d5cd-0245d63212a8"
      },
      "execution_count": 7,
      "outputs": [
        {
          "output_type": "stream",
          "name": "stdout",
          "text": [
            "Collecting patool\n",
            "  Downloading patool-2.2.0-py2.py3-none-any.whl (96 kB)\n",
            "\u001b[2K     \u001b[90m━━━━━━━━━━━━━━━━━━━━━━━━━━━━━━━━━━━━━━━━\u001b[0m \u001b[32m96.0/96.0 kB\u001b[0m \u001b[31m1.3 MB/s\u001b[0m eta \u001b[36m0:00:00\u001b[0m\n",
            "\u001b[?25hCollecting pyunpack\n",
            "  Downloading pyunpack-0.3-py2.py3-none-any.whl (4.1 kB)\n",
            "Collecting easyprocess (from pyunpack)\n",
            "  Downloading EasyProcess-1.1-py3-none-any.whl (8.7 kB)\n",
            "Collecting entrypoint2 (from pyunpack)\n",
            "  Downloading entrypoint2-1.1-py2.py3-none-any.whl (9.9 kB)\n",
            "Installing collected packages: entrypoint2, easyprocess, pyunpack, patool\n",
            "Successfully installed easyprocess-1.1 entrypoint2-1.1 patool-2.2.0 pyunpack-0.3\n"
          ]
        }
      ]
    },
    {
      "cell_type": "code",
      "source": [
        "from pyunpack import Archive\n",
        "zip_file_path = '/content/grocery-prices-data-explore-shopping-trends.zip'\n",
        "extract_directory = '/content/drive/MyDrive/Test_dataset'\n",
        "# Buka dan ekstrak file ZIP menggunakan patool\n",
        "Archive(zip_file_path).extractall(extract_directory)\n",
        "\n",
        "# Output pesan jika ekstraksi selesai\n",
        "print(\"Ekstraksi selesai.\")"
      ],
      "metadata": {
        "colab": {
          "base_uri": "https://localhost:8080/"
        },
        "id": "dh8zGg2GwLQ-",
        "outputId": "1a6b9045-ff1a-45f3-ef0b-fc7bf518c249"
      },
      "execution_count": 8,
      "outputs": [
        {
          "output_type": "stream",
          "name": "stdout",
          "text": [
            "Ekstraksi selesai.\n"
          ]
        }
      ]
    },
    {
      "cell_type": "code",
      "source": [
        "import pandas as pd\n",
        "import matplotlib.pyplot as plt\n",
        "import seaborn as sns\n",
        "import numpy as np"
      ],
      "metadata": {
        "id": "Tuo24GEjwXvv"
      },
      "execution_count": 9,
      "outputs": []
    },
    {
      "cell_type": "code",
      "source": [
        "df = pd.read_csv('/content/drive/MyDrive/Test_dataset/Grocery_data.csv')\n",
        "df.head()"
      ],
      "metadata": {
        "colab": {
          "base_uri": "https://localhost:8080/",
          "height": 310
        },
        "id": "VBUbSjHdwgyW",
        "outputId": "aeb834b2-462a-41d0-af54-4389ee9caab2"
      },
      "execution_count": 10,
      "outputs": [
        {
          "output_type": "execute_result",
          "data": {
            "text/plain": [
              "                                        Product Name           Category  \\\n",
              "0  Coriander Leaves With Roots - Enhances Flavour...  fruits-vegetables   \n",
              "1                                      Onion (Loose)  fruits-vegetables   \n",
              "2                                Potato - Fresh Crop  fruits-vegetables   \n",
              "3                            Carrot - Orange (Loose)  fruits-vegetables   \n",
              "4                                             Potato  fruits-vegetables   \n",
              "\n",
              "  Quantity  Original Price (Rs.) Discount  Discounted Price (Rs.)  \n",
              "0    100 g                10.918   6% OFF                    10.3  \n",
              "1     2 kg                64.070  49% OFF                    43.0  \n",
              "2     1 kg                48.260  27% OFF                    38.0  \n",
              "3     1 kg                65.120  48% OFF                    44.0  \n",
              "4     1 kg                47.260  39% OFF                    34.0  "
            ],
            "text/html": [
              "\n",
              "  <div id=\"df-2a5ccf15-2a47-468e-adaf-cd9a4c282ef4\" class=\"colab-df-container\">\n",
              "    <div>\n",
              "<style scoped>\n",
              "    .dataframe tbody tr th:only-of-type {\n",
              "        vertical-align: middle;\n",
              "    }\n",
              "\n",
              "    .dataframe tbody tr th {\n",
              "        vertical-align: top;\n",
              "    }\n",
              "\n",
              "    .dataframe thead th {\n",
              "        text-align: right;\n",
              "    }\n",
              "</style>\n",
              "<table border=\"1\" class=\"dataframe\">\n",
              "  <thead>\n",
              "    <tr style=\"text-align: right;\">\n",
              "      <th></th>\n",
              "      <th>Product Name</th>\n",
              "      <th>Category</th>\n",
              "      <th>Quantity</th>\n",
              "      <th>Original Price (Rs.)</th>\n",
              "      <th>Discount</th>\n",
              "      <th>Discounted Price (Rs.)</th>\n",
              "    </tr>\n",
              "  </thead>\n",
              "  <tbody>\n",
              "    <tr>\n",
              "      <th>0</th>\n",
              "      <td>Coriander Leaves With Roots - Enhances Flavour...</td>\n",
              "      <td>fruits-vegetables</td>\n",
              "      <td>100 g</td>\n",
              "      <td>10.918</td>\n",
              "      <td>6% OFF</td>\n",
              "      <td>10.3</td>\n",
              "    </tr>\n",
              "    <tr>\n",
              "      <th>1</th>\n",
              "      <td>Onion (Loose)</td>\n",
              "      <td>fruits-vegetables</td>\n",
              "      <td>2 kg</td>\n",
              "      <td>64.070</td>\n",
              "      <td>49% OFF</td>\n",
              "      <td>43.0</td>\n",
              "    </tr>\n",
              "    <tr>\n",
              "      <th>2</th>\n",
              "      <td>Potato - Fresh Crop</td>\n",
              "      <td>fruits-vegetables</td>\n",
              "      <td>1 kg</td>\n",
              "      <td>48.260</td>\n",
              "      <td>27% OFF</td>\n",
              "      <td>38.0</td>\n",
              "    </tr>\n",
              "    <tr>\n",
              "      <th>3</th>\n",
              "      <td>Carrot - Orange (Loose)</td>\n",
              "      <td>fruits-vegetables</td>\n",
              "      <td>1 kg</td>\n",
              "      <td>65.120</td>\n",
              "      <td>48% OFF</td>\n",
              "      <td>44.0</td>\n",
              "    </tr>\n",
              "    <tr>\n",
              "      <th>4</th>\n",
              "      <td>Potato</td>\n",
              "      <td>fruits-vegetables</td>\n",
              "      <td>1 kg</td>\n",
              "      <td>47.260</td>\n",
              "      <td>39% OFF</td>\n",
              "      <td>34.0</td>\n",
              "    </tr>\n",
              "  </tbody>\n",
              "</table>\n",
              "</div>\n",
              "    <div class=\"colab-df-buttons\">\n",
              "\n",
              "  <div class=\"colab-df-container\">\n",
              "    <button class=\"colab-df-convert\" onclick=\"convertToInteractive('df-2a5ccf15-2a47-468e-adaf-cd9a4c282ef4')\"\n",
              "            title=\"Convert this dataframe to an interactive table.\"\n",
              "            style=\"display:none;\">\n",
              "\n",
              "  <svg xmlns=\"http://www.w3.org/2000/svg\" height=\"24px\" viewBox=\"0 -960 960 960\">\n",
              "    <path d=\"M120-120v-720h720v720H120Zm60-500h600v-160H180v160Zm220 220h160v-160H400v160Zm0 220h160v-160H400v160ZM180-400h160v-160H180v160Zm440 0h160v-160H620v160ZM180-180h160v-160H180v160Zm440 0h160v-160H620v160Z\"/>\n",
              "  </svg>\n",
              "    </button>\n",
              "\n",
              "  <style>\n",
              "    .colab-df-container {\n",
              "      display:flex;\n",
              "      gap: 12px;\n",
              "    }\n",
              "\n",
              "    .colab-df-convert {\n",
              "      background-color: #E8F0FE;\n",
              "      border: none;\n",
              "      border-radius: 50%;\n",
              "      cursor: pointer;\n",
              "      display: none;\n",
              "      fill: #1967D2;\n",
              "      height: 32px;\n",
              "      padding: 0 0 0 0;\n",
              "      width: 32px;\n",
              "    }\n",
              "\n",
              "    .colab-df-convert:hover {\n",
              "      background-color: #E2EBFA;\n",
              "      box-shadow: 0px 1px 2px rgba(60, 64, 67, 0.3), 0px 1px 3px 1px rgba(60, 64, 67, 0.15);\n",
              "      fill: #174EA6;\n",
              "    }\n",
              "\n",
              "    .colab-df-buttons div {\n",
              "      margin-bottom: 4px;\n",
              "    }\n",
              "\n",
              "    [theme=dark] .colab-df-convert {\n",
              "      background-color: #3B4455;\n",
              "      fill: #D2E3FC;\n",
              "    }\n",
              "\n",
              "    [theme=dark] .colab-df-convert:hover {\n",
              "      background-color: #434B5C;\n",
              "      box-shadow: 0px 1px 3px 1px rgba(0, 0, 0, 0.15);\n",
              "      filter: drop-shadow(0px 1px 2px rgba(0, 0, 0, 0.3));\n",
              "      fill: #FFFFFF;\n",
              "    }\n",
              "  </style>\n",
              "\n",
              "    <script>\n",
              "      const buttonEl =\n",
              "        document.querySelector('#df-2a5ccf15-2a47-468e-adaf-cd9a4c282ef4 button.colab-df-convert');\n",
              "      buttonEl.style.display =\n",
              "        google.colab.kernel.accessAllowed ? 'block' : 'none';\n",
              "\n",
              "      async function convertToInteractive(key) {\n",
              "        const element = document.querySelector('#df-2a5ccf15-2a47-468e-adaf-cd9a4c282ef4');\n",
              "        const dataTable =\n",
              "          await google.colab.kernel.invokeFunction('convertToInteractive',\n",
              "                                                    [key], {});\n",
              "        if (!dataTable) return;\n",
              "\n",
              "        const docLinkHtml = 'Like what you see? Visit the ' +\n",
              "          '<a target=\"_blank\" href=https://colab.research.google.com/notebooks/data_table.ipynb>data table notebook</a>'\n",
              "          + ' to learn more about interactive tables.';\n",
              "        element.innerHTML = '';\n",
              "        dataTable['output_type'] = 'display_data';\n",
              "        await google.colab.output.renderOutput(dataTable, element);\n",
              "        const docLink = document.createElement('div');\n",
              "        docLink.innerHTML = docLinkHtml;\n",
              "        element.appendChild(docLink);\n",
              "      }\n",
              "    </script>\n",
              "  </div>\n",
              "\n",
              "\n",
              "<div id=\"df-b1612f58-4d8d-409a-a053-8730fe793dc9\">\n",
              "  <button class=\"colab-df-quickchart\" onclick=\"quickchart('df-b1612f58-4d8d-409a-a053-8730fe793dc9')\"\n",
              "            title=\"Suggest charts\"\n",
              "            style=\"display:none;\">\n",
              "\n",
              "<svg xmlns=\"http://www.w3.org/2000/svg\" height=\"24px\"viewBox=\"0 0 24 24\"\n",
              "     width=\"24px\">\n",
              "    <g>\n",
              "        <path d=\"M19 3H5c-1.1 0-2 .9-2 2v14c0 1.1.9 2 2 2h14c1.1 0 2-.9 2-2V5c0-1.1-.9-2-2-2zM9 17H7v-7h2v7zm4 0h-2V7h2v10zm4 0h-2v-4h2v4z\"/>\n",
              "    </g>\n",
              "</svg>\n",
              "  </button>\n",
              "\n",
              "<style>\n",
              "  .colab-df-quickchart {\n",
              "      --bg-color: #E8F0FE;\n",
              "      --fill-color: #1967D2;\n",
              "      --hover-bg-color: #E2EBFA;\n",
              "      --hover-fill-color: #174EA6;\n",
              "      --disabled-fill-color: #AAA;\n",
              "      --disabled-bg-color: #DDD;\n",
              "  }\n",
              "\n",
              "  [theme=dark] .colab-df-quickchart {\n",
              "      --bg-color: #3B4455;\n",
              "      --fill-color: #D2E3FC;\n",
              "      --hover-bg-color: #434B5C;\n",
              "      --hover-fill-color: #FFFFFF;\n",
              "      --disabled-bg-color: #3B4455;\n",
              "      --disabled-fill-color: #666;\n",
              "  }\n",
              "\n",
              "  .colab-df-quickchart {\n",
              "    background-color: var(--bg-color);\n",
              "    border: none;\n",
              "    border-radius: 50%;\n",
              "    cursor: pointer;\n",
              "    display: none;\n",
              "    fill: var(--fill-color);\n",
              "    height: 32px;\n",
              "    padding: 0;\n",
              "    width: 32px;\n",
              "  }\n",
              "\n",
              "  .colab-df-quickchart:hover {\n",
              "    background-color: var(--hover-bg-color);\n",
              "    box-shadow: 0 1px 2px rgba(60, 64, 67, 0.3), 0 1px 3px 1px rgba(60, 64, 67, 0.15);\n",
              "    fill: var(--button-hover-fill-color);\n",
              "  }\n",
              "\n",
              "  .colab-df-quickchart-complete:disabled,\n",
              "  .colab-df-quickchart-complete:disabled:hover {\n",
              "    background-color: var(--disabled-bg-color);\n",
              "    fill: var(--disabled-fill-color);\n",
              "    box-shadow: none;\n",
              "  }\n",
              "\n",
              "  .colab-df-spinner {\n",
              "    border: 2px solid var(--fill-color);\n",
              "    border-color: transparent;\n",
              "    border-bottom-color: var(--fill-color);\n",
              "    animation:\n",
              "      spin 1s steps(1) infinite;\n",
              "  }\n",
              "\n",
              "  @keyframes spin {\n",
              "    0% {\n",
              "      border-color: transparent;\n",
              "      border-bottom-color: var(--fill-color);\n",
              "      border-left-color: var(--fill-color);\n",
              "    }\n",
              "    20% {\n",
              "      border-color: transparent;\n",
              "      border-left-color: var(--fill-color);\n",
              "      border-top-color: var(--fill-color);\n",
              "    }\n",
              "    30% {\n",
              "      border-color: transparent;\n",
              "      border-left-color: var(--fill-color);\n",
              "      border-top-color: var(--fill-color);\n",
              "      border-right-color: var(--fill-color);\n",
              "    }\n",
              "    40% {\n",
              "      border-color: transparent;\n",
              "      border-right-color: var(--fill-color);\n",
              "      border-top-color: var(--fill-color);\n",
              "    }\n",
              "    60% {\n",
              "      border-color: transparent;\n",
              "      border-right-color: var(--fill-color);\n",
              "    }\n",
              "    80% {\n",
              "      border-color: transparent;\n",
              "      border-right-color: var(--fill-color);\n",
              "      border-bottom-color: var(--fill-color);\n",
              "    }\n",
              "    90% {\n",
              "      border-color: transparent;\n",
              "      border-bottom-color: var(--fill-color);\n",
              "    }\n",
              "  }\n",
              "</style>\n",
              "\n",
              "  <script>\n",
              "    async function quickchart(key) {\n",
              "      const quickchartButtonEl =\n",
              "        document.querySelector('#' + key + ' button');\n",
              "      quickchartButtonEl.disabled = true;  // To prevent multiple clicks.\n",
              "      quickchartButtonEl.classList.add('colab-df-spinner');\n",
              "      try {\n",
              "        const charts = await google.colab.kernel.invokeFunction(\n",
              "            'suggestCharts', [key], {});\n",
              "      } catch (error) {\n",
              "        console.error('Error during call to suggestCharts:', error);\n",
              "      }\n",
              "      quickchartButtonEl.classList.remove('colab-df-spinner');\n",
              "      quickchartButtonEl.classList.add('colab-df-quickchart-complete');\n",
              "    }\n",
              "    (() => {\n",
              "      let quickchartButtonEl =\n",
              "        document.querySelector('#df-b1612f58-4d8d-409a-a053-8730fe793dc9 button');\n",
              "      quickchartButtonEl.style.display =\n",
              "        google.colab.kernel.accessAllowed ? 'block' : 'none';\n",
              "    })();\n",
              "  </script>\n",
              "</div>\n",
              "    </div>\n",
              "  </div>\n"
            ],
            "application/vnd.google.colaboratory.intrinsic+json": {
              "type": "dataframe",
              "variable_name": "df",
              "summary": "{\n  \"name\": \"df\",\n  \"rows\": 1067,\n  \"fields\": [\n    {\n      \"column\": \"Product Name\",\n      \"properties\": {\n        \"dtype\": \"string\",\n        \"num_unique_values\": 975,\n        \"samples\": [\n          \"Besan - Gram Flour\",\n          \"Aqua Rush Eau De Toilette\",\n          \"Maida -  Soft & Chemical Free\"\n        ],\n        \"semantic_type\": \"\",\n        \"description\": \"\"\n      }\n    },\n    {\n      \"column\": \"Category\",\n      \"properties\": {\n        \"dtype\": \"category\",\n        \"num_unique_values\": 26,\n        \"samples\": [\n          \"2310054-pasta-sauces-more\",\n          \"2310074-scent-sational-perfumes\",\n          \"fruits-vegetables\"\n        ],\n        \"semantic_type\": \"\",\n        \"description\": \"\"\n      }\n    },\n    {\n      \"column\": \"Quantity\",\n      \"properties\": {\n        \"dtype\": \"category\",\n        \"num_unique_values\": 413,\n        \"samples\": [\n          \"1 Pc\",\n          \"275 ml\",\n          \"435 ml - (Set of 2)\"\n        ],\n        \"semantic_type\": \"\",\n        \"description\": \"\"\n      }\n    },\n    {\n      \"column\": \"Original Price (Rs.)\",\n      \"properties\": {\n        \"dtype\": \"number\",\n        \"std\": 751.2117467695136,\n        \"min\": 6.02,\n        \"max\": 7527.49,\n        \"num_unique_values\": 867,\n        \"samples\": [\n          854.4,\n          79.2,\n          483.8573\n        ],\n        \"semantic_type\": \"\",\n        \"description\": \"\"\n      }\n    },\n    {\n      \"column\": \"Discount\",\n      \"properties\": {\n        \"dtype\": \"category\",\n        \"num_unique_values\": 131,\n        \"samples\": [\n          \"14% OFF\",\n          \"9% OFF\",\n          \"72% OFF\"\n        ],\n        \"semantic_type\": \"\",\n        \"description\": \"\"\n      }\n    },\n    {\n      \"column\": \"Discounted Price (Rs.)\",\n      \"properties\": {\n        \"dtype\": \"number\",\n        \"std\": 537.4044795708453,\n        \"min\": 3.5,\n        \"max\": 5036.5,\n        \"num_unique_values\": 625,\n        \"samples\": [\n          425.25,\n          99.6,\n          89.0\n        ],\n        \"semantic_type\": \"\",\n        \"description\": \"\"\n      }\n    }\n  ]\n}"
            }
          },
          "metadata": {},
          "execution_count": 10
        }
      ]
    },
    {
      "cell_type": "code",
      "source": [
        "df.info()"
      ],
      "metadata": {
        "colab": {
          "base_uri": "https://localhost:8080/"
        },
        "id": "QpG20lztwmGI",
        "outputId": "b8c7f249-9358-4dae-caac-a9ea7cfb73e9"
      },
      "execution_count": 11,
      "outputs": [
        {
          "output_type": "stream",
          "name": "stdout",
          "text": [
            "<class 'pandas.core.frame.DataFrame'>\n",
            "RangeIndex: 1067 entries, 0 to 1066\n",
            "Data columns (total 6 columns):\n",
            " #   Column                  Non-Null Count  Dtype  \n",
            "---  ------                  --------------  -----  \n",
            " 0   Product Name            1067 non-null   object \n",
            " 1   Category                1067 non-null   object \n",
            " 2   Quantity                1067 non-null   object \n",
            " 3   Original Price (Rs.)    1062 non-null   float64\n",
            " 4   Discount                1066 non-null   object \n",
            " 5   Discounted Price (Rs.)  1062 non-null   float64\n",
            "dtypes: float64(2), object(4)\n",
            "memory usage: 50.1+ KB\n"
          ]
        }
      ]
    },
    {
      "cell_type": "code",
      "source": [
        "df.drop_duplicates(inplace=True)"
      ],
      "metadata": {
        "id": "7wZE8kmkwoso"
      },
      "execution_count": 12,
      "outputs": []
    },
    {
      "cell_type": "code",
      "source": [
        "df.info()"
      ],
      "metadata": {
        "colab": {
          "base_uri": "https://localhost:8080/"
        },
        "id": "AGI1IENowvgm",
        "outputId": "00dca60e-cb27-4a27-daa0-3b4aa9add1a1"
      },
      "execution_count": 13,
      "outputs": [
        {
          "output_type": "stream",
          "name": "stdout",
          "text": [
            "<class 'pandas.core.frame.DataFrame'>\n",
            "Int64Index: 1046 entries, 0 to 1066\n",
            "Data columns (total 6 columns):\n",
            " #   Column                  Non-Null Count  Dtype  \n",
            "---  ------                  --------------  -----  \n",
            " 0   Product Name            1046 non-null   object \n",
            " 1   Category                1046 non-null   object \n",
            " 2   Quantity                1046 non-null   object \n",
            " 3   Original Price (Rs.)    1041 non-null   float64\n",
            " 4   Discount                1045 non-null   object \n",
            " 5   Discounted Price (Rs.)  1041 non-null   float64\n",
            "dtypes: float64(2), object(4)\n",
            "memory usage: 57.2+ KB\n"
          ]
        }
      ]
    },
    {
      "cell_type": "code",
      "source": [
        "df = df.dropna()"
      ],
      "metadata": {
        "id": "7l2u5UnkwxYJ"
      },
      "execution_count": 17,
      "outputs": []
    },
    {
      "cell_type": "code",
      "source": [
        "df.head()"
      ],
      "metadata": {
        "colab": {
          "base_uri": "https://localhost:8080/",
          "height": 310
        },
        "id": "FVwLgC9TxP3P",
        "outputId": "00f1c4e5-4bfb-422e-942a-c161ba6e1b14"
      },
      "execution_count": 18,
      "outputs": [
        {
          "output_type": "execute_result",
          "data": {
            "text/plain": [
              "                                        Product Name           Category  \\\n",
              "0  Coriander Leaves With Roots - Enhances Flavour...  fruits-vegetables   \n",
              "1                                      Onion (Loose)  fruits-vegetables   \n",
              "2                                Potato - Fresh Crop  fruits-vegetables   \n",
              "3                            Carrot - Orange (Loose)  fruits-vegetables   \n",
              "4                                             Potato  fruits-vegetables   \n",
              "\n",
              "  Quantity  Original Price (Rs.) Discount  Discounted Price (Rs.)  \n",
              "0    100 g                10.918   6% OFF                    10.3  \n",
              "1     2 kg                64.070  49% OFF                    43.0  \n",
              "2     1 kg                48.260  27% OFF                    38.0  \n",
              "3     1 kg                65.120  48% OFF                    44.0  \n",
              "4     1 kg                47.260  39% OFF                    34.0  "
            ],
            "text/html": [
              "\n",
              "  <div id=\"df-2b75400c-55a8-4181-8e18-fed1542d2576\" class=\"colab-df-container\">\n",
              "    <div>\n",
              "<style scoped>\n",
              "    .dataframe tbody tr th:only-of-type {\n",
              "        vertical-align: middle;\n",
              "    }\n",
              "\n",
              "    .dataframe tbody tr th {\n",
              "        vertical-align: top;\n",
              "    }\n",
              "\n",
              "    .dataframe thead th {\n",
              "        text-align: right;\n",
              "    }\n",
              "</style>\n",
              "<table border=\"1\" class=\"dataframe\">\n",
              "  <thead>\n",
              "    <tr style=\"text-align: right;\">\n",
              "      <th></th>\n",
              "      <th>Product Name</th>\n",
              "      <th>Category</th>\n",
              "      <th>Quantity</th>\n",
              "      <th>Original Price (Rs.)</th>\n",
              "      <th>Discount</th>\n",
              "      <th>Discounted Price (Rs.)</th>\n",
              "    </tr>\n",
              "  </thead>\n",
              "  <tbody>\n",
              "    <tr>\n",
              "      <th>0</th>\n",
              "      <td>Coriander Leaves With Roots - Enhances Flavour...</td>\n",
              "      <td>fruits-vegetables</td>\n",
              "      <td>100 g</td>\n",
              "      <td>10.918</td>\n",
              "      <td>6% OFF</td>\n",
              "      <td>10.3</td>\n",
              "    </tr>\n",
              "    <tr>\n",
              "      <th>1</th>\n",
              "      <td>Onion (Loose)</td>\n",
              "      <td>fruits-vegetables</td>\n",
              "      <td>2 kg</td>\n",
              "      <td>64.070</td>\n",
              "      <td>49% OFF</td>\n",
              "      <td>43.0</td>\n",
              "    </tr>\n",
              "    <tr>\n",
              "      <th>2</th>\n",
              "      <td>Potato - Fresh Crop</td>\n",
              "      <td>fruits-vegetables</td>\n",
              "      <td>1 kg</td>\n",
              "      <td>48.260</td>\n",
              "      <td>27% OFF</td>\n",
              "      <td>38.0</td>\n",
              "    </tr>\n",
              "    <tr>\n",
              "      <th>3</th>\n",
              "      <td>Carrot - Orange (Loose)</td>\n",
              "      <td>fruits-vegetables</td>\n",
              "      <td>1 kg</td>\n",
              "      <td>65.120</td>\n",
              "      <td>48% OFF</td>\n",
              "      <td>44.0</td>\n",
              "    </tr>\n",
              "    <tr>\n",
              "      <th>4</th>\n",
              "      <td>Potato</td>\n",
              "      <td>fruits-vegetables</td>\n",
              "      <td>1 kg</td>\n",
              "      <td>47.260</td>\n",
              "      <td>39% OFF</td>\n",
              "      <td>34.0</td>\n",
              "    </tr>\n",
              "  </tbody>\n",
              "</table>\n",
              "</div>\n",
              "    <div class=\"colab-df-buttons\">\n",
              "\n",
              "  <div class=\"colab-df-container\">\n",
              "    <button class=\"colab-df-convert\" onclick=\"convertToInteractive('df-2b75400c-55a8-4181-8e18-fed1542d2576')\"\n",
              "            title=\"Convert this dataframe to an interactive table.\"\n",
              "            style=\"display:none;\">\n",
              "\n",
              "  <svg xmlns=\"http://www.w3.org/2000/svg\" height=\"24px\" viewBox=\"0 -960 960 960\">\n",
              "    <path d=\"M120-120v-720h720v720H120Zm60-500h600v-160H180v160Zm220 220h160v-160H400v160Zm0 220h160v-160H400v160ZM180-400h160v-160H180v160Zm440 0h160v-160H620v160ZM180-180h160v-160H180v160Zm440 0h160v-160H620v160Z\"/>\n",
              "  </svg>\n",
              "    </button>\n",
              "\n",
              "  <style>\n",
              "    .colab-df-container {\n",
              "      display:flex;\n",
              "      gap: 12px;\n",
              "    }\n",
              "\n",
              "    .colab-df-convert {\n",
              "      background-color: #E8F0FE;\n",
              "      border: none;\n",
              "      border-radius: 50%;\n",
              "      cursor: pointer;\n",
              "      display: none;\n",
              "      fill: #1967D2;\n",
              "      height: 32px;\n",
              "      padding: 0 0 0 0;\n",
              "      width: 32px;\n",
              "    }\n",
              "\n",
              "    .colab-df-convert:hover {\n",
              "      background-color: #E2EBFA;\n",
              "      box-shadow: 0px 1px 2px rgba(60, 64, 67, 0.3), 0px 1px 3px 1px rgba(60, 64, 67, 0.15);\n",
              "      fill: #174EA6;\n",
              "    }\n",
              "\n",
              "    .colab-df-buttons div {\n",
              "      margin-bottom: 4px;\n",
              "    }\n",
              "\n",
              "    [theme=dark] .colab-df-convert {\n",
              "      background-color: #3B4455;\n",
              "      fill: #D2E3FC;\n",
              "    }\n",
              "\n",
              "    [theme=dark] .colab-df-convert:hover {\n",
              "      background-color: #434B5C;\n",
              "      box-shadow: 0px 1px 3px 1px rgba(0, 0, 0, 0.15);\n",
              "      filter: drop-shadow(0px 1px 2px rgba(0, 0, 0, 0.3));\n",
              "      fill: #FFFFFF;\n",
              "    }\n",
              "  </style>\n",
              "\n",
              "    <script>\n",
              "      const buttonEl =\n",
              "        document.querySelector('#df-2b75400c-55a8-4181-8e18-fed1542d2576 button.colab-df-convert');\n",
              "      buttonEl.style.display =\n",
              "        google.colab.kernel.accessAllowed ? 'block' : 'none';\n",
              "\n",
              "      async function convertToInteractive(key) {\n",
              "        const element = document.querySelector('#df-2b75400c-55a8-4181-8e18-fed1542d2576');\n",
              "        const dataTable =\n",
              "          await google.colab.kernel.invokeFunction('convertToInteractive',\n",
              "                                                    [key], {});\n",
              "        if (!dataTable) return;\n",
              "\n",
              "        const docLinkHtml = 'Like what you see? Visit the ' +\n",
              "          '<a target=\"_blank\" href=https://colab.research.google.com/notebooks/data_table.ipynb>data table notebook</a>'\n",
              "          + ' to learn more about interactive tables.';\n",
              "        element.innerHTML = '';\n",
              "        dataTable['output_type'] = 'display_data';\n",
              "        await google.colab.output.renderOutput(dataTable, element);\n",
              "        const docLink = document.createElement('div');\n",
              "        docLink.innerHTML = docLinkHtml;\n",
              "        element.appendChild(docLink);\n",
              "      }\n",
              "    </script>\n",
              "  </div>\n",
              "\n",
              "\n",
              "<div id=\"df-e47e58ff-2b33-4376-9fd2-6e7dea47fe32\">\n",
              "  <button class=\"colab-df-quickchart\" onclick=\"quickchart('df-e47e58ff-2b33-4376-9fd2-6e7dea47fe32')\"\n",
              "            title=\"Suggest charts\"\n",
              "            style=\"display:none;\">\n",
              "\n",
              "<svg xmlns=\"http://www.w3.org/2000/svg\" height=\"24px\"viewBox=\"0 0 24 24\"\n",
              "     width=\"24px\">\n",
              "    <g>\n",
              "        <path d=\"M19 3H5c-1.1 0-2 .9-2 2v14c0 1.1.9 2 2 2h14c1.1 0 2-.9 2-2V5c0-1.1-.9-2-2-2zM9 17H7v-7h2v7zm4 0h-2V7h2v10zm4 0h-2v-4h2v4z\"/>\n",
              "    </g>\n",
              "</svg>\n",
              "  </button>\n",
              "\n",
              "<style>\n",
              "  .colab-df-quickchart {\n",
              "      --bg-color: #E8F0FE;\n",
              "      --fill-color: #1967D2;\n",
              "      --hover-bg-color: #E2EBFA;\n",
              "      --hover-fill-color: #174EA6;\n",
              "      --disabled-fill-color: #AAA;\n",
              "      --disabled-bg-color: #DDD;\n",
              "  }\n",
              "\n",
              "  [theme=dark] .colab-df-quickchart {\n",
              "      --bg-color: #3B4455;\n",
              "      --fill-color: #D2E3FC;\n",
              "      --hover-bg-color: #434B5C;\n",
              "      --hover-fill-color: #FFFFFF;\n",
              "      --disabled-bg-color: #3B4455;\n",
              "      --disabled-fill-color: #666;\n",
              "  }\n",
              "\n",
              "  .colab-df-quickchart {\n",
              "    background-color: var(--bg-color);\n",
              "    border: none;\n",
              "    border-radius: 50%;\n",
              "    cursor: pointer;\n",
              "    display: none;\n",
              "    fill: var(--fill-color);\n",
              "    height: 32px;\n",
              "    padding: 0;\n",
              "    width: 32px;\n",
              "  }\n",
              "\n",
              "  .colab-df-quickchart:hover {\n",
              "    background-color: var(--hover-bg-color);\n",
              "    box-shadow: 0 1px 2px rgba(60, 64, 67, 0.3), 0 1px 3px 1px rgba(60, 64, 67, 0.15);\n",
              "    fill: var(--button-hover-fill-color);\n",
              "  }\n",
              "\n",
              "  .colab-df-quickchart-complete:disabled,\n",
              "  .colab-df-quickchart-complete:disabled:hover {\n",
              "    background-color: var(--disabled-bg-color);\n",
              "    fill: var(--disabled-fill-color);\n",
              "    box-shadow: none;\n",
              "  }\n",
              "\n",
              "  .colab-df-spinner {\n",
              "    border: 2px solid var(--fill-color);\n",
              "    border-color: transparent;\n",
              "    border-bottom-color: var(--fill-color);\n",
              "    animation:\n",
              "      spin 1s steps(1) infinite;\n",
              "  }\n",
              "\n",
              "  @keyframes spin {\n",
              "    0% {\n",
              "      border-color: transparent;\n",
              "      border-bottom-color: var(--fill-color);\n",
              "      border-left-color: var(--fill-color);\n",
              "    }\n",
              "    20% {\n",
              "      border-color: transparent;\n",
              "      border-left-color: var(--fill-color);\n",
              "      border-top-color: var(--fill-color);\n",
              "    }\n",
              "    30% {\n",
              "      border-color: transparent;\n",
              "      border-left-color: var(--fill-color);\n",
              "      border-top-color: var(--fill-color);\n",
              "      border-right-color: var(--fill-color);\n",
              "    }\n",
              "    40% {\n",
              "      border-color: transparent;\n",
              "      border-right-color: var(--fill-color);\n",
              "      border-top-color: var(--fill-color);\n",
              "    }\n",
              "    60% {\n",
              "      border-color: transparent;\n",
              "      border-right-color: var(--fill-color);\n",
              "    }\n",
              "    80% {\n",
              "      border-color: transparent;\n",
              "      border-right-color: var(--fill-color);\n",
              "      border-bottom-color: var(--fill-color);\n",
              "    }\n",
              "    90% {\n",
              "      border-color: transparent;\n",
              "      border-bottom-color: var(--fill-color);\n",
              "    }\n",
              "  }\n",
              "</style>\n",
              "\n",
              "  <script>\n",
              "    async function quickchart(key) {\n",
              "      const quickchartButtonEl =\n",
              "        document.querySelector('#' + key + ' button');\n",
              "      quickchartButtonEl.disabled = true;  // To prevent multiple clicks.\n",
              "      quickchartButtonEl.classList.add('colab-df-spinner');\n",
              "      try {\n",
              "        const charts = await google.colab.kernel.invokeFunction(\n",
              "            'suggestCharts', [key], {});\n",
              "      } catch (error) {\n",
              "        console.error('Error during call to suggestCharts:', error);\n",
              "      }\n",
              "      quickchartButtonEl.classList.remove('colab-df-spinner');\n",
              "      quickchartButtonEl.classList.add('colab-df-quickchart-complete');\n",
              "    }\n",
              "    (() => {\n",
              "      let quickchartButtonEl =\n",
              "        document.querySelector('#df-e47e58ff-2b33-4376-9fd2-6e7dea47fe32 button');\n",
              "      quickchartButtonEl.style.display =\n",
              "        google.colab.kernel.accessAllowed ? 'block' : 'none';\n",
              "    })();\n",
              "  </script>\n",
              "</div>\n",
              "    </div>\n",
              "  </div>\n"
            ],
            "application/vnd.google.colaboratory.intrinsic+json": {
              "type": "dataframe",
              "variable_name": "df",
              "summary": "{\n  \"name\": \"df\",\n  \"rows\": 1040,\n  \"fields\": [\n    {\n      \"column\": \"Product Name\",\n      \"properties\": {\n        \"dtype\": \"string\",\n        \"num_unique_values\": 969,\n        \"samples\": [\n          \"Health & Nutrition Drink Powder - Vanilla Flavour, Nutrition For Kids Growth\",\n          \"Basmati Rice Everyday\",\n          \"7-In-1 Super Seeds & Nut Mix - For Weight Management, Ready To Eat, Healthy Snacks\"\n        ],\n        \"semantic_type\": \"\",\n        \"description\": \"\"\n      }\n    },\n    {\n      \"column\": \"Category\",\n      \"properties\": {\n        \"dtype\": \"category\",\n        \"num_unique_values\": 26,\n        \"samples\": [\n          \"2310054-pasta-sauces-more\",\n          \"2310074-scent-sational-perfumes\",\n          \"fruits-vegetables\"\n        ],\n        \"semantic_type\": \"\",\n        \"description\": \"\"\n      }\n    },\n    {\n      \"column\": \"Quantity\",\n      \"properties\": {\n        \"dtype\": \"category\",\n        \"num_unique_values\": 412,\n        \"samples\": [\n          \"625 ml\",\n          \"56 g\",\n          \"5 kg - 4 kg Pack + 1 kg Pack Free\"\n        ],\n        \"semantic_type\": \"\",\n        \"description\": \"\"\n      }\n    },\n    {\n      \"column\": \"Original Price (Rs.)\",\n      \"properties\": {\n        \"dtype\": \"number\",\n        \"std\": 757.6379590198803,\n        \"min\": 6.02,\n        \"max\": 7527.49,\n        \"num_unique_values\": 866,\n        \"samples\": [\n          521.892,\n          25.0,\n          141.7375\n        ],\n        \"semantic_type\": \"\",\n        \"description\": \"\"\n      }\n    },\n    {\n      \"column\": \"Discount\",\n      \"properties\": {\n        \"dtype\": \"category\",\n        \"num_unique_values\": 131,\n        \"samples\": [\n          \"14% OFF\",\n          \"9% OFF\",\n          \"72% OFF\"\n        ],\n        \"semantic_type\": \"\",\n        \"description\": \"\"\n      }\n    },\n    {\n      \"column\": \"Discounted Price (Rs.)\",\n      \"properties\": {\n        \"dtype\": \"number\",\n        \"std\": 541.8340552945609,\n        \"min\": 3.5,\n        \"max\": 5036.5,\n        \"num_unique_values\": 625,\n        \"samples\": [\n          425.25,\n          99.6,\n          89.0\n        ],\n        \"semantic_type\": \"\",\n        \"description\": \"\"\n      }\n    }\n  ]\n}"
            }
          },
          "metadata": {},
          "execution_count": 18
        }
      ]
    },
    {
      "cell_type": "code",
      "source": [
        "df.info()"
      ],
      "metadata": {
        "colab": {
          "base_uri": "https://localhost:8080/"
        },
        "id": "X5AMxlxXxSJ1",
        "outputId": "ddad7182-7a41-4f63-ecf0-55b985c758e4"
      },
      "execution_count": 19,
      "outputs": [
        {
          "output_type": "stream",
          "name": "stdout",
          "text": [
            "<class 'pandas.core.frame.DataFrame'>\n",
            "Int64Index: 1040 entries, 0 to 1066\n",
            "Data columns (total 6 columns):\n",
            " #   Column                  Non-Null Count  Dtype  \n",
            "---  ------                  --------------  -----  \n",
            " 0   Product Name            1040 non-null   object \n",
            " 1   Category                1040 non-null   object \n",
            " 2   Quantity                1040 non-null   object \n",
            " 3   Original Price (Rs.)    1040 non-null   float64\n",
            " 4   Discount                1040 non-null   object \n",
            " 5   Discounted Price (Rs.)  1040 non-null   float64\n",
            "dtypes: float64(2), object(4)\n",
            "memory usage: 56.9+ KB\n"
          ]
        }
      ]
    },
    {
      "cell_type": "code",
      "source": [
        "from matplotlib import pyplot as plt\n",
        "\n",
        "# Membuat subplot dengan ukuran 2x2\n",
        "fig, axs = plt.subplots(2, 2, figsize=(12, 8))\n",
        "\n",
        "# Plot scatter plot\n",
        "df.plot(kind='scatter', x='Original Price (Rs.)', y='Discounted Price (Rs.)', s=32, alpha=.8, ax=axs[0, 0])\n",
        "axs[0, 0].set_title('Scatter Plot')\n",
        "axs[0, 0].spines[['top', 'right']].set_visible(False)\n",
        "\n",
        "# Plot line plot Original Price\n",
        "df.plot(kind='line', y='Original Price (Rs.)', x='Category', ax=axs[0, 1], title='Original Price (Rs.)')\n",
        "axs[0, 1].spines[['top', 'right']].set_visible(False)\n",
        "axs[0, 1].tick_params(axis='x', rotation=45)  # Rotasi label x\n",
        "\n",
        "# Plot line plot Discounted Price\n",
        "df['Discounted Price (Rs.)'].plot(kind='line', ax=axs[1, 0], title='Discounted Price (Rs.)')\n",
        "axs[1, 0].spines[['top', 'right']].set_visible(False)\n",
        "\n",
        "# Menghapus subplot yang tidak digunakan\n",
        "fig.delaxes(axs[1, 1])\n",
        "\n",
        "# Menyesuaikan layout\n",
        "plt.tight_layout()\n",
        "\n",
        "# Menampilkan plot\n",
        "plt.show()\n"
      ],
      "metadata": {
        "colab": {
          "base_uri": "https://localhost:8080/",
          "height": 526
        },
        "id": "G-3NnzUVxTqg",
        "outputId": "cace0219-737f-4348-ddde-a7bc07128de2"
      },
      "execution_count": 37,
      "outputs": [
        {
          "output_type": "display_data",
          "data": {
            "text/plain": [
              "<Figure size 1200x800 with 3 Axes>"
            ],
            "image/png": "[encoded data removed]"
          },
          "metadata": {}
        }
      ]
    },
    {
      "cell_type": "code",
      "source": [
        "df['Product Name'].head()"
      ],
      "metadata": {
        "colab": {
          "base_uri": "https://localhost:8080/"
        },
        "id": "4TlHBbLvyqJM",
        "outputId": "21a0e56c-b7df-424d-dcc3-6fbf9ff1fef6"
      },
      "execution_count": 24,
      "outputs": [
        {
          "output_type": "execute_result",
          "data": {
            "text/plain": [
              "0    Coriander Leaves With Roots - Enhances Flavour...\n",
              "1                                        Onion (Loose)\n",
              "2                                  Potato - Fresh Crop\n",
              "3                              Carrot - Orange (Loose)\n",
              "4                                               Potato\n",
              "Name: Product Name, dtype: object"
            ]
          },
          "metadata": {},
          "execution_count": 24
        }
      ]
    },
    {
      "cell_type": "code",
      "source": [
        "df['Product Name'].unique()"
      ],
      "metadata": {
        "id": "Dst1Ybd3zKqM"
      },
      "execution_count": null,
      "outputs": []
    },
    {
      "cell_type": "code",
      "source": [
        "df['Product Name'].unique()"
      ],
      "metadata": {
        "id": "8GpNvh5gzRHT"
      },
      "execution_count": null,
      "outputs": []
    },
    {
      "cell_type": "code",
      "source": [
        "Minimum_price_category=df.loc[df['Original Price (Rs.)'].idxmin()]\n",
        "Minimum_price_category"
      ],
      "metadata": {
        "colab": {
          "base_uri": "https://localhost:8080/"
        },
        "id": "gXUWT5uazX5-",
        "outputId": "af14f69c-b7d0-4304-9ef8-6ef0367d5119"
      },
      "execution_count": 27,
      "outputs": [
        {
          "output_type": "execute_result",
          "data": {
            "text/plain": [
              "Product Name                        Coriander 1 pc\n",
              "Category                         fruits-vegetables\n",
              "Quantity                  1 pc - (approx. 80-100g)\n",
              "Original Price (Rs.)                          6.02\n",
              "Discount                                   72% OFF\n",
              "Discounted Price (Rs.)                         3.5\n",
              "Name: 42, dtype: object"
            ]
          },
          "metadata": {},
          "execution_count": 27
        }
      ]
    },
    {
      "cell_type": "code",
      "source": [
        "Maximum_price_category=df.loc[df['Original Price (Rs.)'].idxmax()]\n",
        "Maximum_price_category"
      ],
      "metadata": {
        "colab": {
          "base_uri": "https://localhost:8080/"
        },
        "id": "Z1f0RVVRztbY",
        "outputId": "bd00a5a7-939a-4a01-a07a-27db7782e461"
      },
      "execution_count": 29,
      "outputs": [
        {
          "output_type": "execute_result",
          "data": {
            "text/plain": [
              "Product Name              Contura Stainless Steel Inner Lid Pressure Coo...\n",
              "Category                                           2308194-pressure-cookers\n",
              "Quantity                                                                3 l\n",
              "Original Price (Rs.)                                                7527.49\n",
              "Discount                                                           ₹151 OFF\n",
              "Discounted Price (Rs.)                                               2999.0\n",
              "Name: 985, dtype: object"
            ]
          },
          "metadata": {},
          "execution_count": 29
        }
      ]
    },
    {
      "cell_type": "code",
      "source": [
        "highest_discount= df.loc[df['Discounted Price (Rs.)'].idxmax()]\n",
        "highest_discount"
      ],
      "metadata": {
        "colab": {
          "base_uri": "https://localhost:8080/"
        },
        "id": "IYv7e-mnzyNS",
        "outputId": "d56f3df1-1d36-4132-ae57-7be237f9fd52"
      },
      "execution_count": 30,
      "outputs": [
        {
          "output_type": "execute_result",
          "data": {
            "text/plain": [
              "Product Name              Extra Virgin Olive Oil\n",
              "Category                   foodgrains-oil-masala\n",
              "Quantity                               5 L - Tin\n",
              "Original Price (Rs.)                     6547.45\n",
              "Discount                                 30% OFF\n",
              "Discounted Price (Rs.)                    5036.5\n",
              "Name: 380, dtype: object"
            ]
          },
          "metadata": {},
          "execution_count": 30
        }
      ]
    },
    {
      "cell_type": "code",
      "source": [
        "least_discount= df.loc[df['Discounted Price (Rs.)'].idxmin()]\n",
        "least_discount"
      ],
      "metadata": {
        "colab": {
          "base_uri": "https://localhost:8080/"
        },
        "id": "xlYG65UI0C6o",
        "outputId": "1f5173f7-6ece-4290-baa4-4b6af67455aa"
      },
      "execution_count": 31,
      "outputs": [
        {
          "output_type": "execute_result",
          "data": {
            "text/plain": [
              "Product Name                        Coriander 1 pc\n",
              "Category                         fruits-vegetables\n",
              "Quantity                  1 pc - (approx. 80-100g)\n",
              "Original Price (Rs.)                          6.02\n",
              "Discount                                   72% OFF\n",
              "Discounted Price (Rs.)                         3.5\n",
              "Name: 42, dtype: object"
            ]
          },
          "metadata": {},
          "execution_count": 31
        }
      ]
    },
    {
      "cell_type": "code",
      "source": [],
      "metadata": {
        "id": "aaMeHnCg1pWe"
      },
      "execution_count": null,
      "outputs": []
    }
  ]
}