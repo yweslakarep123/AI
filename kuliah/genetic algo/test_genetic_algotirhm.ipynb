{
  "nbformat": 4,
  "nbformat_minor": 0,
  "metadata": {
    "colab": {
      "provenance": [],
      "authorship_tag": "ABX9TyOByFLc7TP1E9yWAG9hwwws",
      "include_colab_link": true
    },
    "kernelspec": {
      "name": "python3",
      "display_name": "Python 3"
    },
    "language_info": {
      "name": "python"
    }
  },
  "cells": [
    {
      "cell_type": "markdown",
      "metadata": {
        "id": "view-in-github",
        "colab_type": "text"
      },
      "source": [
        "<a href=\"https://colab.research.google.com/github/yweslakarep123/algortima_genetika/blob/main/test_genetic_algotirhm.ipynb\" target=\"_parent\"><img src=\"https://colab.research.google.com/assets/colab-badge.svg\" alt=\"Open In Colab\"/></a>"
      ]
    },
    {
      "cell_type": "code",
      "source": [
        "from google.colab import drive"
      ],
      "metadata": {
        "id": "tw8-3LbCnI3w"
      },
      "execution_count": null,
      "outputs": []
    },
    {
      "cell_type": "code",
      "source": [
        "drive.mount('/content/drive')"
      ],
      "metadata": {
        "colab": {
          "base_uri": "https://localhost:8080/"
        },
        "id": "oHMrwXzenOKz",
        "outputId": "eaaac22a-14cb-46e8-e04c-6eaafba17dda"
      },
      "execution_count": null,
      "outputs": [
        {
          "output_type": "stream",
          "name": "stdout",
          "text": [
            "Mounted at /content/drive\n"
          ]
        }
      ]
    },
    {
      "cell_type": "code",
      "source": [
        "%cd '/content/drive/MyDrive/Tugas_gen_algoritma'"
      ],
      "metadata": {
        "colab": {
          "base_uri": "https://localhost:8080/"
        },
        "id": "Pjbx-jn3ndVE",
        "outputId": "04564641-d3d9-42bb-8b40-67f34bcd846c"
      },
      "execution_count": null,
      "outputs": [
        {
          "output_type": "stream",
          "name": "stdout",
          "text": [
            "/content/drive/MyDrive/Tugas_gen_algoritma\n"
          ]
        }
      ]
    },
    {
      "cell_type": "code",
      "source": [
        "!mkdir  '/content/drive/MyDrive/Tugas_gen_algoritma'"
      ],
      "metadata": {
        "id": "mv4VgWrSoSIa"
      },
      "execution_count": null,
      "outputs": []
    },
    {
      "cell_type": "code",
      "source": [
        "!pwd"
      ],
      "metadata": {
        "colab": {
          "base_uri": "https://localhost:8080/"
        },
        "id": "U0GXjE8yoKI0",
        "outputId": "6097cced-5fb5-426a-9bc4-b2c28f84cb63"
      },
      "execution_count": null,
      "outputs": [
        {
          "output_type": "stream",
          "name": "stdout",
          "text": [
            "/content/drive/MyDrive/Tugas_gen_algoritma\n"
          ]
        }
      ]
    },
    {
      "cell_type": "markdown",
      "source": [
        "<h1> FULL CODE </h1>"
      ],
      "metadata": {
        "id": "7BoTHlBXvR9S"
      }
    },
    {
      "cell_type": "code",
      "execution_count": null,
      "metadata": {
        "id": "XD20FWtTlOiw"
      },
      "outputs": [],
      "source": [
        "import random\n",
        "import time\n",
        "import pandas as pd\n",
        "\n",
        "#ukur waktu\n",
        "start_time = time.time()\n",
        "# Ukuran populasi\n",
        "UKURAN_POPULASI = 100\n",
        "# Gen yang valid\n",
        "GEN = '''abcdefghijklmnopqrstuvwxyzABCDEFGHIJKLMNOPQRSTUVWXYZ 1234567890, .-;:_!\"#%&/()=?@${[]}'''\n",
        "# String target yang ingin dihasilkan\n",
        "TARGET = \"Saya suka Kecerdasan Buatan\"\n",
        "\n",
        "# Membuat gen secara acak dengan panjang tertentu\n",
        "def buat_gen(length):\n",
        "    gen = []\n",
        "    for _ in range(length):\n",
        "        gen.append(random.choice(GEN))\n",
        "    return gen\n",
        "\n",
        "# Menghitung tingkat kesesuaian kromosom dengan target\n",
        "def hitung_kesalahan(chromosome):\n",
        "    kesalahan = 0\n",
        "    fitness = 25\n",
        "    for gs, gt in zip(chromosome, TARGET):\n",
        "        if gs != gt:\n",
        "            kesalahan += 1\n",
        "            fitness -= 1\n",
        "    return kesalahan, fitness\n",
        "\n",
        "# Menghasilkan anak dari dua orang tua (par1 dan par2)\n",
        "def Seleksi(parent1, parent2):\n",
        "    anak_kromosom = []\n",
        "    for gen_parent1, gen_parent2 in zip(parent1, parent2):\n",
        "        probabilitas = random.random()\n",
        "        if probabilitas < 0.45:\n",
        "            anak_kromosom.append(gen_parent1)\n",
        "        elif probabilitas < 0.90:\n",
        "            anak_kromosom.append(gen_parent2)\n",
        "        else:\n",
        "            anak_kromosom.append(random.choice(GEN))\n",
        "    return anak_kromosom\n",
        "\n",
        "generasi = 1\n",
        "ditemukan = False\n",
        "populasi = []\n",
        "data_generasi = []\n",
        "\n",
        "\n",
        "# Mengacak ulang string GEN\n",
        "GEN = ''.join(random.sample(GEN, len(GEN)))\n",
        "\n",
        "for _ in range(UKURAN_POPULASI):\n",
        "  populasi.append(buat_gen(len(TARGET)))\n",
        "\n",
        "while not ditemukan:\n",
        "    populasi = sorted(populasi, key=lambda x: hitung_kesalahan(x)[0])\n",
        "    if hitung_kesalahan(populasi[0])[0] <= 0:\n",
        "        ditemukan = True\n",
        "        break\n",
        "\n",
        "\n",
        "    generasi_terpilih = populasi[:int(0.1 * UKURAN_POPULASI)]\n",
        "    for _ in range(int(0.9 * UKURAN_POPULASI)):\n",
        "        induk1 = random.choice(populasi[:50])\n",
        "        induk2 = random.choice(populasi[:50])\n",
        "        anak = Seleksi(induk1, induk2)\n",
        "        generasi_terpilih.append(anak)\n",
        "\n",
        "\n",
        "\n",
        "    populasi = generasi_terpilih\n",
        "    kesalahan_terkecil, fitness_terbaik = hitung_kesalahan(populasi[0])\n",
        "    individu_terbaik = ''.join(populasi[0])\n",
        "    print(f\"Generasi: {generasi}\\thasil: {individu_terbaik}\\tkesalahan: {kesalahan_terkecil}\\tFitness: {fitness_terbaik}\")\n",
        "    generasi += 1\n",
        "    data_generasi.append({\n",
        "        \"input \": GEN,\n",
        "        \"Generasi\": generasi,\n",
        "        \"Hasil\": individu_terbaik,\n",
        "        \"Kesalahan\": kesalahan_terkecil,\n",
        "        \"Fitness\": fitness_terbaik\n",
        "    })\n",
        "\n",
        "kesalahan_terkecil, fitness_terbaik = hitung_kesalahan(populasi[0])\n",
        "individu_terbaik = ''.join(populasi[0])\n",
        "print(f\"Generasi: {generasi}\\thasil: {individu_terbaik}\\tkesalahan: {kesalahan_terkecil}\\tFitness: {fitness_terbaik}\")\n",
        "data_generasi.append({\n",
        "  \"Generasi\": generasi,\n",
        "  \"Hasil\": individu_terbaik,\n",
        "  \"Kesalahan\": kesalahan_terkecil,\n",
        "  \"Fitness\": fitness_terbaik\n",
        "  })\n",
        "\n",
        "end_time = time.time()\n",
        "\n",
        "hasil_waktu = end_time - start_time\n",
        "print(str(hasil_waktu) + ' ms')\n",
        "\n",
        "\n",
        " ###================================= DIGUNAKAN UNTUK MEMBUAT DATA =================================###\n",
        "\n",
        "# df = pd.DataFrame(data_generasi)\n",
        "\n",
        "# # Simpan DataFrame ke file CSV\n",
        "# df.to_csv('data_hasil_optimasi.csv', index=False)\n"
      ]
    },
    {
      "cell_type": "markdown",
      "source": [
        "<h1> PENJELASAN RINCI </h1>"
      ],
      "metadata": {
        "id": "ww5lNQVLvXSE"
      }
    },
    {
      "cell_type": "markdown",
      "source": [
        "<h1>AMBIL LIBRARY</h1>\n",
        "<p> Pada masalah algortima ini kita memerlukan dua library python yaitu\n",
        "\n",
        "1. time untuk mengukur seberapa lama code berjalan\n",
        "2. random untuk mengambil nilai acak di suatu variabel\n",
        "</p>"
      ],
      "metadata": {
        "id": "w3DeYEicolig"
      }
    },
    {
      "cell_type": "code",
      "source": [
        "import random\n",
        "import time"
      ],
      "metadata": {
        "id": "ml-qCVdQlTve"
      },
      "execution_count": null,
      "outputs": []
    },
    {
      "cell_type": "markdown",
      "source": [
        "<h1>INSIALISASI GEN, TARGET, DAN UKURAN POPULASI ALGORITMA GENETIC</h1>\n",
        "<p> Dalam kasus ini, kelompok kami ingin mengoptimasi string yang awalanya random menjadi \"Saya suka Kecerdasan Buatan\""
      ],
      "metadata": {
        "id": "AArb9yBzh75J"
      }
    },
    {
      "cell_type": "code",
      "source": [
        "import random\n",
        "\n",
        "# String GEN yang ingin diacak ulang\n",
        "GEN = '''abcdefghijklmnopqrstuvwxyzABCDEFGHIJKLMNOPQRSTUVWXYZ 1234567890, .-;:_!\"#%&/()=?@${[]}'''\n",
        "\n",
        "# Mengacak ulang string GEN\n",
        "GEN = ''.join(random.sample(GEN, len(GEN)))\n",
        "TARGET = \"Saya suka Kecerdasan Buatan\"\n",
        "print(GEN)"
      ],
      "metadata": {
        "id": "sbcibwW6hz8V"
      },
      "execution_count": null,
      "outputs": []
    },
    {
      "cell_type": "markdown",
      "source": [
        "<h1>PEMBUATAN GEN</h1>\n",
        "<h3>Kita pertama harus menginisialisasi gen untuk parent dan nanti dikembangkan menjadi child yang lebih teroptimasi<h3>\n",
        "\n",
        "<p>Pertama kita inisialisasi variabel generasi untuk mengtrack butuh berapa keturunan buat algoritma kita teroptimasi dan variabel populasi untuk memetakan individu yang ada di populasi. Selain itu, kita juga perlu menginisialisasi data generasi untuk nanti dibuat menjadi file CSV<p>"
      ],
      "metadata": {
        "id": "ILn_9mGAjb51"
      }
    },
    {
      "cell_type": "code",
      "source": [
        "populasi = []\n",
        "generasi = 1\n",
        "data_generasi = []"
      ],
      "metadata": {
        "id": "nx0K0jvujtRD"
      },
      "execution_count": null,
      "outputs": []
    },
    {
      "cell_type": "markdown",
      "source": [
        "<p>Kedua kita bisa membuat fungsi di python untuk membuat generasi pertama kita<p>"
      ],
      "metadata": {
        "id": "ei6JrZX1lRKs"
      }
    },
    {
      "cell_type": "code",
      "source": [
        "def buat_gen(length):\n",
        "    gen = []\n",
        "    for _ in range(length):\n",
        "        gen.append(random.choice(GEN))\n",
        "    return gen\n",
        "\n",
        "for _ in range(UKURAN_POPULASI):\n",
        "  populasi.append(buat_gen(len(TARGET)))\n",
        "\n",
        "\n",
        "print(len(populasi)) #BANYAKNYA INDIVIDU DALAM SUATU POPULASI\n",
        "print(populasi[0]) #INDIVIDU PERTAMA\n",
        "\n",
        "#NOTES: POPULASI AKAN BERTAMBAH 100 SETIAP KALI KITA RUN CELL, HAL INI DIKARENAKAN KITA MEMASUKKAN DATA GEN YANG BERUKURAN SESUAI VARIABEL UKURAN POPULASI"
      ],
      "metadata": {
        "colab": {
          "base_uri": "https://localhost:8080/"
        },
        "id": "iQRfTmGLlDJp",
        "outputId": "df1ee3c6-2d22-4390-c5dd-ef306f943c50"
      },
      "execution_count": null,
      "outputs": [
        {
          "output_type": "stream",
          "name": "stdout",
          "text": [
            "100\n",
            "['K', '=', 'v', '/', 'S', ')', 'D', 'x', '%', 'M', 'c', 'a', 'h', ' ', '0', 'P', 'k', '9', '4', 'h', '#', '!', 'F', '\"', '=', 'F', 'c']\n"
          ]
        }
      ]
    },
    {
      "cell_type": "markdown",
      "source": [
        "<h1> PERHITUNGAN FITNESS<h1>\n",
        "<p> Perhitungan fitness merupakan bagian dari algoritma genetic yang digunakan untuk menghitung kesalahan yang ada di generasi terbaik populasi. Di code program kita akan berhenti apabila kesalahan nya mencapai 0<p>"
      ],
      "metadata": {
        "id": "ybx8_MhhpQQm"
      }
    },
    {
      "cell_type": "code",
      "source": [
        "def hitung_kesalahan(chromosome):\n",
        "    kesalahan = 0\n",
        "    fitness = 25\n",
        "    for gs, gt in zip(chromosome, TARGET):\n",
        "        if gs != gt:\n",
        "            kesalahan += 1\n",
        "            fitness -= 1\n",
        "    return kesalahan, fitness\n",
        "\n",
        "\n",
        "populasi = sorted(populasi, key=lambda x: hitung_kesalahan(x)[0])\n",
        "\n",
        "print(hitung_kesalahan(populasi[0])[0] <= 0)"
      ],
      "metadata": {
        "colab": {
          "base_uri": "https://localhost:8080/"
        },
        "id": "PNMtN-fYmc4Y",
        "outputId": "fea3428c-1a24-47db-e960-333a45a3052a"
      },
      "execution_count": null,
      "outputs": [
        {
          "output_type": "stream",
          "name": "stdout",
          "text": [
            "False\n"
          ]
        }
      ]
    },
    {
      "cell_type": "markdown",
      "source": [
        "<h1> PRE SELEKSI</h1>\n",
        "<p> Lalu kita pilih 10 generasi awal yang memiliki fitness terbaik untuk nantinya ikut tahap seleksi berikutnya</p>"
      ],
      "metadata": {
        "id": "eRYumH1E4PrK"
      }
    },
    {
      "cell_type": "code",
      "source": [
        "generasi_terpilih = populasi[:int(0.1 * UKURAN_POPULASI)]\n",
        "print(len(generasi_terpilih))\n",
        "print(generasi_terpilih)"
      ],
      "metadata": {
        "colab": {
          "base_uri": "https://localhost:8080/"
        },
        "id": "_PyXs0av3zOH",
        "outputId": "208d052a-a202-46d9-8424-4f1cccec2df0"
      },
      "execution_count": null,
      "outputs": [
        {
          "output_type": "stream",
          "name": "stdout",
          "text": [
            "10\n",
            "[['G', '1', 'C', '.', 'H', 'O', 'c', ']', '1', 'A', 'A', 'G', 'H', 'e', 'i', 'Q', 'c', 'y', '\"', 'x', 'n', 'R', 'Z', 'K', 'g', '!', 'n'], ['1', ' ', 'r', 'J', 'G', 'Y', 'D', ':', '/', ']', '$', 'q', '=', 'e', 's', 'o', 'W', 'a', '}', 'n', '{', ' ', 'S', ']', 'X', 'z', ','], ['V', '9', 'n', 'r', ',', 'K', 'K', '{', 'S', 'u', '&', '1', 'x', 'f', 't', 'k', 'a', 's', 'K', ' ', 'B', '8', ']', 'y', 'x', '\"', 'p'], ['&', 'J', 'h', 'l', 'G', 'S', '&', '%', '?', '1', 'L', 'w', 'c', '9', 'E', ';', 'C', 'k', 'a', 'b', 'Y', '&', '[', 'Z', 'a', 'z', 'T'], ['L', 'F', 'L', 'k', 'Y', 'd', ';', 'Y', '&', ' ', '0', 'N', 'S', '_', 'A', 'i', 'i', 'z', 'x', 'o', 'o', 'Y', ':', 'U', 'B', 's', '2'], ['E', 'D', 'y', ',', 'j', 'w', 'K', '[', 'n', 'U', 'g', 'o', 'O', '!', 'H', '5', 'e', 'E', '3', '?', 'K', 'd', 'a', 'I', 'q', '\"', '7'], ['}', '2', 'S', 'c', '=', 'A', '4', 'N', '[', '0', ':', '7', 's', 'c', 'Z', 'y', '-', 'o', 'o', 'Y', 'S', 'B', 'f', 'x', 'V', 'X', 'J'], ['q', 'i', ')', '_', 'r', '6', 'C', 'k', '2', 'l', '=', 'C', 'q', 'w', '3', '(', '!', '1', '0', 'h', 'K', 'g', '2', 'B', 'o', 's', 'D'], [';', 'i', 'e', 'O', 'V', '5', '[', '7', '%', '$', 'L', 'p', 'h', '&', 'm', 'H', ';', 's', '\"', 'i', 'u', 'W', 'Z', '9', '_', 'o', ']'], ['E', 'h', 'z', 'N', 'R', '$', 'X', '4', 'l', 's', ')', 'f', 'e', '#', 'V', 'o', '\"', 'i', 'e', 'n', ')', '_', 'M', 'Z', '=', 'e', 'Z']]\n"
          ]
        }
      ]
    },
    {
      "cell_type": "markdown",
      "source": [
        "<h1>SELEKSI, CROSSOVER, DAN MUTASI</h1>\n",
        "<p> Seleksi merupakan proses pemilihan untuk mendapatkan calon induk yang baik. “Induk yang baik akan menghasilkan keturunan yang baik”. Di code tersebut kita melakukan seleksi menggunakan library random untuk memilih acak gari generasi terbaik yang dipilih </p>\n",
        "\n",
        "<p> Crossover merupakan salah satu operator dalam algoritma genetika yang melibatkan dua induk untuk menghasilkan keturunan yang baru. Dicode tersebut terjadi perkawinan antara 2 parent untuk mendaptkan gen yang baru</p>\n",
        "\n",
        "<p>Mutasi gen merupakan operator yang menukar nilai gen dengan nilai inversinya. Dicode tersebut apabila probabilitas lebih dari 0.9 maka algoritma akan mengambil karakter random lagi di variabel GEN</p>"
      ],
      "metadata": {
        "id": "LIKC615xz8de"
      }
    },
    {
      "cell_type": "code",
      "source": [
        "def Seleksi(parent1, parent2):\n",
        "    anak_kromosom = []\n",
        "    for gen_parent1, gen_parent2 in zip(parent1, parent2):\n",
        "        probabilitas = random.random()\n",
        "        if probabilitas < 0.45:\n",
        "            anak_kromosom.append(gen_parent1)\n",
        "        elif probabilitas < 0.90:\n",
        "            anak_kromosom.append(gen_parent2)\n",
        "        else:\n",
        "            anak_kromosom.append(random.choice(GEN))\n",
        "    return anak_kromosom\n",
        "\n",
        "\n",
        "induk1 = random.choice(populasi[:50])\n",
        "induk2 = random.choice(populasi[:50])\n",
        "anak = Seleksi(induk1, induk2)\n",
        "generasi_terpilih.append(anak)\n",
        "\n",
        "print(\"induk1: \", induk1)\n",
        "print(\"================================\")\n",
        "print(\"induk2: \", induk2)\n",
        "print(\"================================\")\n",
        "print(\"anak: \", anak)\n",
        "print(\"================================\")\n",
        "print(\"generasi_terpilih: \", generasi_terpilih)"
      ],
      "metadata": {
        "id": "Bsty9asxpee2",
        "colab": {
          "base_uri": "https://localhost:8080/"
        },
        "outputId": "34cf58fe-7a8d-46bc-91e9-bdf1a0c68e6b"
      },
      "execution_count": null,
      "outputs": [
        {
          "output_type": "stream",
          "name": "stdout",
          "text": [
            "induk1:  ['K', '.', 'w', 'i', '6', 'p', '=', 'Y', 'e', 'K', 'V', 'd', 'c', 's', '.', 'M', 'J', 'j', 's', 'a', '1', 'w', '_', '%', '}', '}', '=']\n",
            "================================\n",
            "induk2:  ['O', ' ', 'J', '4', '9', 'g', 'j', 'V', 'y', 'P', 'k', '\"', '/', 'B', 'l', 'C', '}', 'P', '1', 'R', '?', 'O', '7', '?', '/', 'W', '4']\n",
            "================================\n",
            "anak:  ['O', ' ', 'w', 'i', '6', 'p', '=', 'V', 'e', 'N', 'V', 'd', '/', 'B', 'l', 'M', '}', 'j', '1', 'R', '?', 'w', '_', '?', '/', 'W', '=']\n",
            "================================\n",
            "generasi_terpilih:  [['G', '1', 'C', '.', 'H', 'O', 'c', ']', '1', 'A', 'A', 'G', 'H', 'e', 'i', 'Q', 'c', 'y', '\"', 'x', 'n', 'R', 'Z', 'K', 'g', '!', 'n'], ['1', ' ', 'r', 'J', 'G', 'Y', 'D', ':', '/', ']', '$', 'q', '=', 'e', 's', 'o', 'W', 'a', '}', 'n', '{', ' ', 'S', ']', 'X', 'z', ','], ['V', '9', 'n', 'r', ',', 'K', 'K', '{', 'S', 'u', '&', '1', 'x', 'f', 't', 'k', 'a', 's', 'K', ' ', 'B', '8', ']', 'y', 'x', '\"', 'p'], ['&', 'J', 'h', 'l', 'G', 'S', '&', '%', '?', '1', 'L', 'w', 'c', '9', 'E', ';', 'C', 'k', 'a', 'b', 'Y', '&', '[', 'Z', 'a', 'z', 'T'], ['L', 'F', 'L', 'k', 'Y', 'd', ';', 'Y', '&', ' ', '0', 'N', 'S', '_', 'A', 'i', 'i', 'z', 'x', 'o', 'o', 'Y', ':', 'U', 'B', 's', '2'], ['E', 'D', 'y', ',', 'j', 'w', 'K', '[', 'n', 'U', 'g', 'o', 'O', '!', 'H', '5', 'e', 'E', '3', '?', 'K', 'd', 'a', 'I', 'q', '\"', '7'], ['}', '2', 'S', 'c', '=', 'A', '4', 'N', '[', '0', ':', '7', 's', 'c', 'Z', 'y', '-', 'o', 'o', 'Y', 'S', 'B', 'f', 'x', 'V', 'X', 'J'], ['q', 'i', ')', '_', 'r', '6', 'C', 'k', '2', 'l', '=', 'C', 'q', 'w', '3', '(', '!', '1', '0', 'h', 'K', 'g', '2', 'B', 'o', 's', 'D'], [';', 'i', 'e', 'O', 'V', '5', '[', '7', '%', '$', 'L', 'p', 'h', '&', 'm', 'H', ';', 's', '\"', 'i', 'u', 'W', 'Z', '9', '_', 'o', ']'], ['E', 'h', 'z', 'N', 'R', '$', 'X', '4', 'l', 's', ')', 'f', 'e', '#', 'V', 'o', '\"', 'i', 'e', 'n', ')', '_', 'M', 'Z', '=', 'e', 'Z'], ['=', 'i', 'e', 'O', 'X', '5', 'Q', 'U', '%', 'i', 'U', '/', 'h', ']', 'x', '$', 'A', 's', 'q', 'i', '.', 'W', 'Z', '9', '_', '{', ']'], ['V', 'R', 'k', 'r', '_', 'b', '/', '{', 'K', 'P', '&', '1', '7', '_', 't', '4', '\"', 's', 'K', 'J', '6', 'D', 'M', 'y', 't', '\"', 'p'], ['K', '=', 'v', 'l', 'S', 'S', '&', '%', 'V', 'M', 'L', 'w', 'h', ' ', '0', ';', 'k', '9', 'a', 'h', '}', '&', '[', '\"', '=', 'F', 'T'], ['O', ' ', 'w', 'i', '6', 'p', '=', 'V', 'e', 'N', 'V', 'd', '/', 'B', 'l', 'M', '}', 'j', '1', 'R', '?', 'w', '_', '?', '/', 'W', '=']]\n"
          ]
        }
      ]
    },
    {
      "cell_type": "markdown",
      "source": [
        "<h1>OUTPUT DAN PEMBUATAN DATA</h1>\n",
        "<p> Bagian code terakhir digunakan untuk mendsiplay output dan menghasilkan data</p>"
      ],
      "metadata": {
        "id": "QbJTf0xLtuYV"
      }
    },
    {
      "cell_type": "code",
      "source": [
        "populasi = generasi_terpilih\n",
        "kesalahan_terkecil, fitness_terbaik = hitung_kesalahan(populasi[0])\n",
        "individu_terbaik = ''.join(populasi[0])\n",
        "print(f\"Generasi: {generasi}\\thasil: {individu_terbaik}\\tkesalahan: {kesalahan_terkecil}\\tFitness: {fitness_terbaik}\")\n",
        "generasi += 1\n",
        "\n",
        "kesalahan_terkecil, fitness_terbaik = hitung_kesalahan(populasi[0])\n",
        "individu_terbaik = ''.join(populasi[0])\n",
        "print(f\"Generasi: {generasi}\\thasil: {individu_terbaik}\\tkesalahan: {kesalahan_terkecil}\\tFitness: {fitness_terbaik}\")\n",
        "\n",
        "data_generasi.append({\n",
        "  \"input \": GEN,\n",
        "  \"Generasi\": generasi,\n",
        "  \"Hasil\": individu_terbaik,\n",
        "  \"Kesalahan\": kesalahan_terkecil,\n",
        "  \"Fitness\": fitness_terbaik\n",
        "  })\n",
        "\n",
        "df = pd.DataFrame(data_generasi)\n",
        "\n",
        "# Simpan DataFrame ke file CSV\n",
        "df.to_csv('data_hasil_optimasi.csv', index=False)\n"
      ],
      "metadata": {
        "colab": {
          "base_uri": "https://localhost:8080/"
        },
        "id": "NSXCa_B7jw2F",
        "outputId": "f981b1d2-b123-4694-abc3-264c5030bfe4"
      },
      "execution_count": null,
      "outputs": [
        {
          "output_type": "stream",
          "name": "stdout",
          "text": [
            "Generasi: 854\thasil: Saya suka Kecerdasan Buatqn\tkesalahan: 1\tFitness: 24\n",
            "Generasi: 855\thasil: Saya suka Kecerdasan Buatqn\tkesalahan: 1\tFitness: 24\n"
          ]
        }
      ]
    },
    {
      "cell_type": "code",
      "source": [],
      "metadata": {
        "id": "698Lz11UtYvI"
      },
      "execution_count": null,
      "outputs": []
    }
  ]
}