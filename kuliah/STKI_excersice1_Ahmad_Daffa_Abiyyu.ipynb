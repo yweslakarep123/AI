{
  "nbformat": 4,
  "nbformat_minor": 0,
  "metadata": {
    "colab": {
      "provenance": []
    },
    "kernelspec": {
      "name": "python3",
      "display_name": "Python 3"
    },
    "language_info": {
      "name": "python"
    }
  },
  "cells": [
    {
      "cell_type": "code",
      "execution_count": null,
      "metadata": {
        "colab": {
          "base_uri": "https://localhost:8080/"
        },
        "id": "IoltWnRErID7",
        "outputId": "a4e01378-7ed0-47a5-cfb4-6d960b31426b"
      },
      "outputs": [
        {
          "output_type": "stream",
          "name": "stdout",
          "text": [
            "Inverted Index:\n",
            "==============\n",
            "forecasts: [1]\n",
            "home: [1, 2, 3, 4]\n",
            "in: [2, 3]\n",
            "increase: [3]\n",
            "july: [2, 3, 4]\n",
            "new: [1, 4]\n",
            "rise: [2, 4]\n",
            "sales: [1, 2, 3, 4]\n",
            "top: [1]\n"
          ]
        }
      ],
      "source": [
        "from collections import defaultdict\n",
        "\n",
        "def exercise_one(documents):\n",
        "    inverted_index = defaultdict(list)\n",
        "\n",
        "    for doc_id, text in documents.items():\n",
        "        terms = text.lower().split()\n",
        "        for term in terms:\n",
        "            if doc_id not in inverted_index[term]:\n",
        "                inverted_index[term].append(doc_id)\n",
        "\n",
        "    return {term: sorted(posting_list) for term, posting_list in sorted(inverted_index.items())}\n",
        "\n",
        "documents = {\n",
        "    1: \"new home sales top forecasts\",\n",
        "    2: \"home sales rise in july\",\n",
        "    3: \"increase in home sales in july\",\n",
        "    4: \"july new home sales rise\"\n",
        "}\n",
        "\n",
        "index = exercise_one(documents)\n",
        "\n",
        "def print_index(index):\n",
        "    print(\"Inverted Index:\")\n",
        "    print(\"==============\")\n",
        "    for term, posting_list in index.items():\n",
        "        print(f\"{term}: {posting_list}\")\n",
        "\n",
        "print_index(index)"
      ]
    },
    {
      "cell_type": "code",
      "source": [
        "from collections import defaultdict\n",
        "\n",
        "def exercise_two(documents):\n",
        "    terms = sorted(set(term for doc in documents.values() for term in doc.lower().split()))\n",
        "\n",
        "    # Create term-document matrix using list comprehension\n",
        "    matrix = [[0 for _ in range(len(documents))] for _ in range(len(terms))]\n",
        "    for doc_id, text in documents.items():\n",
        "        doc_terms = text.lower().split()\n",
        "        for i, term in enumerate(terms):\n",
        "            if term in doc_terms:\n",
        "                matrix[i][doc_id-1] = 1\n",
        "\n",
        "    # Create inverted index\n",
        "    inverted_index = defaultdict(list)\n",
        "    for doc_id, text in documents.items():\n",
        "        for term in text.lower().split():\n",
        "            if doc_id not in inverted_index[term]:\n",
        "                inverted_index[term].append(doc_id)\n",
        "\n",
        "    return terms, matrix, dict(sorted((term, sorted(postings)) for term, postings in inverted_index.items()))\n",
        "\n",
        "# Test documents\n",
        "documents = {\n",
        "    1: \"breakthrough drug for schizophrenia\",\n",
        "    2: \"new schizophrenia drug\",\n",
        "    3: \"new approach for treatment of schizophrenia\",\n",
        "    4: \"new hopes for schizophrenia patients\"\n",
        "}\n",
        "\n",
        "# Generate both representations\n",
        "terms, matrix, index = exercise_two(documents)\n",
        "\n",
        "# Print term-document matrix\n",
        "print(\"Term-Document Incidence Matrix:\")\n",
        "print(\"==============================\")\n",
        "print(\"Terms/Docs:\", end=\"\\t\")\n",
        "for i in range(len(documents)):\n",
        "    print(f\"D{i+1}\", end=\"\\t\")\n",
        "print()\n",
        "for i, term in enumerate(terms):\n",
        "    print(f\"{term:<12}\", end=\"\\t\")\n",
        "    for j in range(len(documents)):\n",
        "        print(matrix[i][j], end=\"\\t\")\n",
        "    print()\n",
        "\n",
        "print(\"\\nInverted Index:\")\n",
        "print(\"==============\")\n",
        "for term, posting_list in index.items():\n",
        "    print(f\"{term}: {posting_list}\")"
      ],
      "metadata": {
        "colab": {
          "base_uri": "https://localhost:8080/"
        },
        "id": "XPlmIjEjsWoB",
        "outputId": "ceac5d54-56ea-4ca8-ce8b-f3720c67552d"
      },
      "execution_count": null,
      "outputs": [
        {
          "output_type": "stream",
          "name": "stdout",
          "text": [
            "Term-Document Incidence Matrix:\n",
            "==============================\n",
            "Terms/Docs:\tD1\tD2\tD3\tD4\t\n",
            "approach    \t0\t0\t1\t0\t\n",
            "breakthrough\t1\t0\t0\t0\t\n",
            "drug        \t1\t1\t0\t0\t\n",
            "for         \t1\t0\t1\t1\t\n",
            "hopes       \t0\t0\t0\t1\t\n",
            "new         \t0\t1\t1\t1\t\n",
            "of          \t0\t0\t1\t0\t\n",
            "patients    \t0\t0\t0\t1\t\n",
            "schizophrenia\t1\t1\t1\t1\t\n",
            "treatment   \t0\t0\t1\t0\t\n",
            "\n",
            "Inverted Index:\n",
            "==============\n",
            "approach: [3]\n",
            "breakthrough: [1]\n",
            "drug: [1, 2]\n",
            "for: [1, 3, 4]\n",
            "hopes: [4]\n",
            "new: [2, 3, 4]\n",
            "of: [3]\n",
            "patients: [4]\n",
            "schizophrenia: [1, 2, 3, 4]\n",
            "treatment: [3]\n"
          ]
        }
      ]
    },
    {
      "cell_type": "code",
      "source": [
        "def build_index(documents):\n",
        "    inverted_index = defaultdict(list)\n",
        "    for doc_id, text in documents.items():\n",
        "        for term in text.lower().split():\n",
        "            if doc_id not in inverted_index[term]:\n",
        "                inverted_index[term].append(doc_id)\n",
        "    return dict(sorted((term, sorted(postings)) for term, postings in inverted_index.items()))\n",
        "\n",
        "def intersect(list1, list2):\n",
        "    result = []\n",
        "    i = j = 0\n",
        "    while i < len(list1) and j < len(list2):\n",
        "        if list1[i] == list2[j]:\n",
        "            result.append(list1[i])\n",
        "            i += 1\n",
        "            j += 1\n",
        "        elif list1[i] < list2[j]:\n",
        "            i += 1\n",
        "        else:\n",
        "            j += 1\n",
        "    return result\n",
        "\n",
        "def union(list1, list2):\n",
        "    result = []\n",
        "    i = j = 0\n",
        "    while i < len(list1) and j < len(list2):\n",
        "        if list1[i] == list2[j]:\n",
        "            result.append(list1[i])\n",
        "            i += 1\n",
        "            j += 1\n",
        "        elif list1[i] < list2[j]:\n",
        "            result.append(list1[i])\n",
        "            i += 1\n",
        "        else:\n",
        "            result.append(list2[j])\n",
        "            j += 1\n",
        "    result.extend(list1[i:])\n",
        "    result.extend(list2[j:])\n",
        "    return result\n",
        "\n",
        "def complement(posting_list, all_docs):\n",
        "    return sorted(set(all_docs) - set(posting_list))\n",
        "\n",
        "def exercise_three(documents):\n",
        "    index = build_index(documents)\n",
        "    all_docs = sorted(documents.keys())\n",
        "\n",
        "    # Query a: schizophrenia AND drug\n",
        "    result_a = intersect(index['schizophrenia'], index['drug'])\n",
        "\n",
        "    # Query b: for AND NOT(drug OR approach)\n",
        "    drug_or_approach = union(index['drug'], index['approach'])\n",
        "    not_drug_or_approach = complement(drug_or_approach, all_docs)\n",
        "    result_b = intersect(index['for'], not_drug_or_approach)\n",
        "\n",
        "    return result_a, result_b\n",
        "\n",
        "# Test documents\n",
        "documents = {\n",
        "    1: \"breakthrough drug for schizophrenia\",\n",
        "    2: \"new schizophrenia drug\",\n",
        "    3: \"new approach for treatment of schizophrenia\",\n",
        "    4: \"new hopes for schizophrenia patients\"\n",
        "}\n",
        "\n",
        "result_a, result_b = exercise_three(documents)\n",
        "\n",
        "print(\"Query Results:\")\n",
        "print(\"=============\")\n",
        "print(\"a. schizophrenia AND drug:\", result_a)\n",
        "print(\"b. for AND NOT(drug OR approach):\", result_b)\n",
        "\n",
        "# Verify results\n",
        "print(\"\\nVerification:\")\n",
        "print(\"============\")\n",
        "print(\"Documents:\")\n",
        "for doc_id, text in documents.items():\n",
        "    print(f\"Doc {doc_id}: {text}\")"
      ],
      "metadata": {
        "colab": {
          "base_uri": "https://localhost:8080/"
        },
        "id": "WYEMn4N4s3Ws",
        "outputId": "33eb2470-2b6b-4f50-cdd2-59b5a1244a68"
      },
      "execution_count": null,
      "outputs": [
        {
          "output_type": "stream",
          "name": "stdout",
          "text": [
            "Query Results:\n",
            "=============\n",
            "a. schizophrenia AND drug: [1, 2]\n",
            "b. for AND NOT(drug OR approach): [4]\n",
            "\n",
            "Verification:\n",
            "============\n",
            "Documents:\n",
            "Doc 1: breakthrough drug for schizophrenia\n",
            "Doc 2: new schizophrenia drug\n",
            "Doc 3: new approach for treatment of schizophrenia\n",
            "Doc 4: new hopes for schizophrenia patients\n"
          ]
        }
      ]
    },
    {
      "cell_type": "code",
      "source": [],
      "metadata": {
        "id": "lEsHhyy2tMxc"
      },
      "execution_count": null,
      "outputs": []
    }
  ]
}