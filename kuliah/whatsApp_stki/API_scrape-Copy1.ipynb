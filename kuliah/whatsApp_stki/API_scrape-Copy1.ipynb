{
 "cells": [
  {
   "cell_type": "code",
   "execution_count": 1,
   "id": "3f99574f-9017-411b-8d0c-a693b5b307c9",
   "metadata": {},
   "outputs": [
    {
     "name": "stdout",
     "output_type": "stream",
     "text": [
      "{'title': 'Gojek - Food & Transportation', 'description': 'Save more with Gojek, enjoy affordable and reliable services for all your daily needs.\\r\\n\\r\\nGojek is a super-app that’s here to help you navigate your daily life easily and affordably. From going places to having your favorite meals delivered to you, you can get it all done with Gojek! \\r\\n\\r\\nHere’s all the uber cool services you can find~\\r\\n\\r\\nNeed to go somewhere quickly? Try GoRide to take you there, or GoCar for extra comfort on the way.\\r\\n\\r\\nCraving something tasty to share with loved ones? No worries, just explore unlimited options on GoFood with affordable prices.\\r\\n\\r\\nTrust GoSend for all your deliveries, and have your items delivered ASAP with on-time guarantee plus insurance for your peace of mind.\\r\\n\\r\\nSay goodbye to the hassle of grocery shopping, let GoMart help you shop and have it delivered to your doorstep in just 30 minutes or less.\\r\\n\\r\\nWait – it gets better! You can also subscribe to Gojek PLUS to get up to 12k discount on every transaction for all Gojek services!\\r\\n\\r\\nNeed to communicate smoothly with the driver during your ongoing transaction? Easy, just use our full-screen free call feature on the app.\\r\\n\\r\\nSo, what are you waiting for? Download now and get ready to enjoy affordability and reliability for all your daily needs with Gojek!\\r\\n\\r\\n(Terms and Conditions apply)', 'descriptionHTML': 'Save more with Gojek, enjoy affordable and reliable services for all your daily needs.<br><br>Gojek is a super-app that’s here to help you navigate your daily life easily and affordably. From going places to having your favorite meals delivered to you, you can get it all done with Gojek! <br><br>Here’s all the uber cool services you can find~<br><br>Need to go somewhere quickly? Try GoRide to take you there, or GoCar for extra comfort on the way.<br><br>Craving something tasty to share with loved ones? No worries, just explore unlimited options on GoFood with affordable prices.<br><br>Trust GoSend for all your deliveries, and have your items delivered ASAP with on-time guarantee plus insurance for your peace of mind.<br><br>Say goodbye to the hassle of grocery shopping, let GoMart help you shop and have it delivered to your doorstep in just 30 minutes or less.<br><br>Wait – it gets better! You can also subscribe to Gojek PLUS to get up to 12k discount on every transaction for all Gojek services!<br><br>Need to communicate smoothly with the driver during your ongoing transaction? Easy, just use our full-screen free call feature on the app.<br><br>So, what are you waiting for? Download now and get ready to enjoy affordability and reliability for all your daily needs with Gojek!<br><br>(Terms and Conditions apply)', 'summary': 'Go places, buy meals, shop and deliver items more affordably with Gojek', 'installs': '100,000,000+', 'minInstalls': 100000000, 'realInstalls': 162458376, 'score': 4.3486238, 'ratings': 6246290, 'reviews': 3431, 'histogram': [802275, 71454, 142909, 357981, 4870960], 'price': 0, 'free': True, 'currency': 'USD', 'sale': False, 'saleTime': None, 'originalPrice': None, 'saleText': None, 'offersIAP': False, 'inAppProductPrice': None, 'developer': 'PT. GoTo Gojek Tokopedia Tbk', 'developerId': '4853785597837765677', 'developerEmail': 'info@gojek.com', 'developerWebsite': 'https://www.gojek.com', 'developerAddress': 'Pasaraya Blok M Gedung B Lt. 6, Jalan Iskandarsyah II No.7, RW. 2, Melawai, Kebayoran Baru, RT.3/RW.1, Kota Jakarta Selatan, 12160, Indonesia', 'privacyPolicy': 'http://www.gojek.com/privacy-policy/', 'genre': 'Travel & Local', 'genreId': 'TRAVEL_AND_LOCAL', 'categories': [{'name': 'Travel & Local', 'id': 'TRAVEL_AND_LOCAL'}], 'icon': 'https://play-lh.googleusercontent.com/7geaWzM1Oz6fPZ4LvgNptt7Ds2mwm7hbeItlPGYGrhdUQfIe06BK0O4jS9ZDgoTAvIU', 'headerImage': 'https://play-lh.googleusercontent.com/IT-4gpRmMwvtYlw5M3JbamStGWlDArwYDXaWex0kbhEy-jyb5txK2Ri4GtS6syghui8', 'screenshots': ['https://play-lh.googleusercontent.com/d2ZjQTfgxH9u3RRxai20EnBPSHdQnjOGtLRQWQMr_zB69DEBoJh-LzojLrbqZnaeHPU', 'https://play-lh.googleusercontent.com/nccyWCwTFLGzZLDTZnotfGSNnCMClnGnh1CkSHyOd66xez-qz3XwQYtVC2uB4FP15JE', 'https://play-lh.googleusercontent.com/ANsf5UcWaNoPhLZQZuyPnyqJxC9ZqU1eVIj0FAuZIpn0p1hFcXPnaTP6JONheAIu0y0', 'https://play-lh.googleusercontent.com/CeqDWSRPKRVSbkoKkKhkX7YlyCpsNC5V1KvVMXJtKcuMk6vJKE7gCRrM7_YQmd5qkQ8', 'https://play-lh.googleusercontent.com/nk8tp5RsLziobm5aiIRQin5N5GGsW3mJ_puz8c3_c6VQ4yo07jg1tKZLG7R7VzAtsyoX', 'https://play-lh.googleusercontent.com/UDUuX5qlFshoa-uxdZ41drPYdCaUCEK3zb3qHmIKbfYJJF1bwTpxE6BhDYNXSsaZmg', 'https://play-lh.googleusercontent.com/U6BGeI5y7atF3PnQe3wwOVY2j8e1SYi-YDQzRy6Go4YXKiRVcWiY7Ld6k_XK4HzA-rA', 'https://play-lh.googleusercontent.com/oL6Rv4xtc96Cxlbi0O9UkIyLOyINWS6_cEAgDHW8lCcORrBJTZBM8u-BUCK2w0OJof4', 'https://play-lh.googleusercontent.com/aDqxGemjJ7f3uk1vdL3zoK9uIjhu1w2c51XO5Ofic7scCosX03IlAjN-vLXQqPieodQ', 'https://play-lh.googleusercontent.com/ydRhoWl7CDQDQGj7fDVcAD0e1cWTDC86FMBV-ERdSSNMUim6YCNOPRXvtUMdTMnvJ2Q', 'https://play-lh.googleusercontent.com/IKC2VXL6HxSFn4lyU5mOolin9MTT_xm69SxXo0kZB7eNBZum1McRgD4M_WZ_QrNwxoEO', 'https://play-lh.googleusercontent.com/yxMdwrRk4ck7rVrZJQ23bPk38JJUlgvIjCttJbc8fNqREFruRRyLdZK-oNvWUjL5aCM', 'https://play-lh.googleusercontent.com/0FOvPH5MvjdpNN0XEE3QG1vwqWfAvzKWJHcP9QQMJ-ITagh5_VZTlb7ljIMWxK5wdxww', 'https://play-lh.googleusercontent.com/JaeaIchmRrSGaZxSMnrANhc9x8j3icLsmyk9k4ZhsTFw2r38q362hgTyZ0wTe8yxzQY8', 'https://play-lh.googleusercontent.com/DaBgWA_QL9W39y93kC0phxXNabEFRDDxy-8pPvOzq-kfWYvEu-lKZMoXSZAa130U0ZQ', 'https://play-lh.googleusercontent.com/k1Yv2AqfA5JmnWSMKTRlclTfQkagNSTzqgKDXFLwTrrArnnk5GA9cOAR_x4T3pbuI00', 'https://play-lh.googleusercontent.com/jVqbmhzsOBVtKDCx68VNuKY_z8SlgVZhL6NtiJbDcLBnpAlUQ2FpTQ5ua0YOQw_q15s', 'https://play-lh.googleusercontent.com/WMlr8aMx2LRG5z06Apm5sn_Faxk1gzymFFR7s-4kXgttfU4jUZ3bjj_E5QUn8CjaS0g', 'https://play-lh.googleusercontent.com/dnx29M7CI5KBLRxxTmlMqbQ6wFYQctsFaR2iLWvhvacfNtksVcyR_DUnvRz9H1zmVg', 'https://play-lh.googleusercontent.com/ECtehqIPrtkDraHRTHAKbhriUHfnm87inK3dehkaJ36CxeaRO9187UAPaIyBN3wiDME', 'https://play-lh.googleusercontent.com/J3JGbXBw3B44NX3z14gagGl1oUPPxYQnO4BnMBIT6JJscYlvGA5N9bcRNeAbF-AMxCU', 'https://play-lh.googleusercontent.com/eupq2wnRYwtmp_rqnxTQABrGl7Wis6w-M0iwZeMNLsR2g2LtvUl7KcAgAkvrgYLFWkA', 'https://play-lh.googleusercontent.com/V_v8ZmtxKVVhghcTwWWQLDBWwnUA1oVhEGBG64BgF_E2n8r7csL4x0q42fgF2M4XWZE', 'https://play-lh.googleusercontent.com/mDAYw7n42FK3wiN3SgbQbK95-zYOzG3uDo0KZcfLsYGsWGJh46QZOJ2iwTY2NTqKRQ'], 'video': None, 'videoImage': None, 'contentRating': 'Everyone', 'contentRatingDescription': None, 'adSupported': False, 'containsAds': False, 'released': 'Feb 2, 2015', 'lastUpdatedOn': 'Mar 4, 2025', 'updated': 1741100589, 'version': '5.12.1', 'comments': [], 'appId': 'com.gojek.app', 'url': 'https://play.google.com/store/apps/details?id=com.gojek.app&hl=en&gl=us'}\n",
      "Ulasan relevan berhasil diambil dan disimpan.\n"
     ]
    }
   ],
   "source": [
    "from google_play_scraper import app, reviews, Sort\n",
    "\n",
    "# Ambil informasi aplikasi Gojek\n",
    "app_info = app('com.gojek.app')\n",
    "print(app_info)\n",
    "\n",
    "# Ambil ulasan aplikasi Gojek berdasarkan relevansi (most helpful)\n",
    "result, _ = reviews(\n",
    "    'com.gojek.app',\n",
    "    lang='id',  # Bahasa Indonesia\n",
    "    country='id',  # Negara Indonesia\n",
    "    sort=Sort.MOST_RELEVANT,  # Urutkan berdasarkan relevansi/kemanfaatan\n",
    "    count=500  # Ambil 100 ulasan terbaru\n",
    ")\n",
    "\n",
    "# Simpan ulasan ke CSV, termasuk rating bintang dan review quality\n",
    "import csv\n",
    "\n",
    "with open('gojek_reviews_relevant_sentiment.csv', 'w', newline='', encoding='utf-8') as file:\n",
    "    writer = csv.writer(file)\n",
    "    writer.writerow(['user', 'review', 'rating'])  # Removed 'review_quality' and added 'rating'\n",
    "    \n",
    "    for review in result:\n",
    "        user = review['userName']\n",
    "        content = review['content']\n",
    "        rating = review['score']  # Star rating of the review\n",
    "        \n",
    "        # Write user, review content, and rating to the CSV file\n",
    "        writer.writerow([user, content, rating])\n",
    "\n",
    "print(\"Ulasan relevan berhasil diambil dan disimpan.\")\n"
   ]
  },
  {
   "cell_type": "code",
   "execution_count": 2,
   "id": "a3ac7466-7c46-41dd-aa6d-7a2e87fba4dd",
   "metadata": {},
   "outputs": [
    {
     "name": "stdout",
     "output_type": "stream",
     "text": [
      "{'title': 'WhatsApp Messenger', 'description': 'WhatsApp from Meta is a FREE messaging and video calling app. It’s used by over 2B people in more than 180 countries. It’s simple, reliable, and private, so you can easily keep in touch with your friends and family. WhatsApp works across mobile and desktop even on slow connections, with no subscription fees*.\\r\\n\\r\\nPrivate messaging across the world\\r\\n\\r\\nYour personal messages and calls to friends and family are end-to-end encrypted. No one outside of your chats, not even WhatsApp, can read or listen to them.\\r\\n\\r\\nSimple and secure connections, right away\\r\\n\\r\\nAll you need is your phone number, no user names or logins. You can quickly view your contacts who are on WhatsApp and start messaging.\\r\\n\\r\\nHigh quality voice and video calls\\r\\n\\r\\nMake secure video and voice calls with up to 8 people for free*. Your calls work across mobile devices using your phone’s Internet service, even on slow connections.\\r\\n\\r\\nGroup chats to keep you in contact\\r\\n\\r\\nStay in touch with your friends and family. End-to-end encrypted group chats let you share messages, photos, videos and documents across mobile and desktop.\\r\\n\\r\\nStay connected in real time\\r\\n\\r\\nShare your location with only those in your individual or group chat, and stop sharing at any time. Or record a voice message to connect quickly.\\r\\n\\r\\nShare daily moments through Status\\r\\n\\r\\nStatus allows you to share text, photos, video and GIF updates that disappear after 24 hours. You can choose to share status posts with all your contacts or just selected ones.\\r\\n\\r\\nUse WhatsApp on your Wear OS watch to continue conversations, reply to messages, and take calls - all from your wrist. And, leverage tiles and complications to easily access your chats and send voice messages.\\r\\n\\r\\n\\r\\n*Data charges may apply. Contact your provider for details.\\r\\n\\r\\n---------------------------------------------------------\\r\\n\\r\\nIf you have any feedback or questions, please go to WhatsApp > Settings > Help > Contact Us\\r\\n\\r\\nTerms of Service: https://www.whatsapp.com/legal/terms-of-service\\r\\n \\r\\n Learn more about messaging privately: https://www.whatsapp.com/privacy\\r\\n \\r\\n Learn more about WhatsApp safety: https://www.whatsapp.com/security', 'descriptionHTML': 'WhatsApp from Meta is a FREE messaging and video calling app. It’s used by over 2B people in more than 180 countries. It’s simple, reliable, and private, so you can easily keep in touch with your friends and family. WhatsApp works across mobile and desktop even on slow connections, with no subscription fees*.<br><br>Private messaging across the world<br><br>Your personal messages and calls to friends and family are end-to-end encrypted. No one outside of your chats, not even WhatsApp, can read or listen to them.<br><br>Simple and secure connections, right away<br><br>All you need is your phone number, no user names or logins. You can quickly view your contacts who are on WhatsApp and start messaging.<br><br>High quality voice and video calls<br><br>Make secure video and voice calls with up to 8 people for free*. Your calls work across mobile devices using your phone’s Internet service, even on slow connections.<br><br>Group chats to keep you in contact<br><br>Stay in touch with your friends and family. End-to-end encrypted group chats let you share messages, photos, videos and documents across mobile and desktop.<br><br>Stay connected in real time<br><br>Share your location with only those in your individual or group chat, and stop sharing at any time. Or record a voice message to connect quickly.<br><br>Share daily moments through Status<br><br>Status allows you to share text, photos, video and GIF updates that disappear after 24 hours. You can choose to share status posts with all your contacts or just selected ones.<br><br>Use WhatsApp on your Wear OS watch to continue conversations, reply to messages, and take calls - all from your wrist. And, leverage tiles and complications to easily access your chats and send voice messages.<br><br><br>*Data charges may apply. Contact your provider for details.<br><br>---------------------------------------------------------<br><br>If you have any feedback or questions, please go to WhatsApp &gt; Settings &gt; Help &gt; Contact Us<br><br>Terms of Service: https://www.whatsapp.com/legal/terms-of-service<br> <br> Learn more about messaging privately: https://www.whatsapp.com/privacy<br> <br> Learn more about WhatsApp safety: https://www.whatsapp.com/security', 'summary': 'Simple. Reliable. Private.', 'installs': '5,000,000,000+', 'minInstalls': 5000000000, 'realInstalls': 9995309168, 'score': 4.463633, 'ratings': 204762926, 'reviews': 1985502, 'histogram': [15788456, 4265242, 7904705, 18069036, 158735439], 'price': 0, 'free': True, 'currency': 'USD', 'sale': False, 'saleTime': None, 'originalPrice': None, 'saleText': None, 'offersIAP': False, 'inAppProductPrice': None, 'developer': 'WhatsApp LLC', 'developerId': 'WhatsApp+LLC', 'developerEmail': 'android@support.whatsapp.com', 'developerWebsite': 'http://www.whatsapp.com/', 'developerAddress': '1601 Willow Road\\nMenlo Park, CA 94025', 'privacyPolicy': 'https://www.whatsapp.com/legal/privacy-policy', 'genre': 'Communication', 'genreId': 'COMMUNICATION', 'categories': [{'name': 'Communication', 'id': 'COMMUNICATION'}], 'icon': 'https://play-lh.googleusercontent.com/bYtqbOcTYOlgc6gqZ2rwb8lptHuwlNE75zYJu6Bn076-hTmvd96HH-6v7S0YUAAJXoJN', 'headerImage': 'https://play-lh.googleusercontent.com/MWV1erZURmTaeXGj29ZLWMSo_7DB92q3IL71lDSRooqbb3qidsa4c9DJ0_jEQgOeXEQ', 'screenshots': ['https://play-lh.googleusercontent.com/ey21SzFwDygWgKaRggLUbdIyu2tglKBpFwGkLVHFmJOM8m01Oek3bi3fJ-7HVsC9XOU', 'https://play-lh.googleusercontent.com/ZmcWoo-YPfdO9fiSJ5EekdhNbm0pifBpOBN05HryaT-t2OHpIVmZhQd5vAE4QcoPFQ', 'https://play-lh.googleusercontent.com/U4SFDCqj0l9XtKvffEzVcJ3z8TSuGibBMRlOFudbbkfL8YKs5STVB5W71eRty881Zorn', 'https://play-lh.googleusercontent.com/EjSO3MSyZN-itVa9kOlvNkNakBw2T1opl6COxjQtLIwjNAYMTTNWkXP8LLN1JTTf7w', 'https://play-lh.googleusercontent.com/jFySdSELzJM8i4jmlIVkZBphkyUHKQnSPjle54uCVe3B8FArSnRxiO7FCPZWO6yd9w', 'https://play-lh.googleusercontent.com/Jt-ttCMUUkZ_-u8DS3MeRrzlWkup3trRGcJrpo5vSIGzxdBs3nk3GkNZ9wWG9zAkfA', 'https://play-lh.googleusercontent.com/GZc67XnRN0XxNTv1J4pTw79lMiQFYKGx5dDEYPEsMUWDgNnHnUoyHg76cn61M3QTwXC5', 'https://play-lh.googleusercontent.com/3VmrU-Se_cvnW6L_skAv6ZC2fut3Fl2XqoZPl74eROsw0gUl4ANSrh8D8M5W6-mSLBI', 'https://play-lh.googleusercontent.com/Lgz--QiIwM5jGw9rCGSMcvocR6ctLyNLdU52FQqNefybXhVhmcaj9Fh_S-QombddtoU5'], 'video': None, 'videoImage': None, 'contentRating': 'Everyone', 'contentRatingDescription': None, 'adSupported': False, 'containsAds': False, 'released': 'Oct 18, 2010', 'lastUpdatedOn': 'Mar 7, 2025', 'updated': 1741383225, 'version': 'Varies with device', 'comments': [], 'appId': 'com.whatsapp', 'url': 'https://play.google.com/store/apps/details?id=com.whatsapp&hl=en&gl=us'}\n",
      "Relevant reviews successfully retrieved and saved.\n"
     ]
    }
   ],
   "source": [
    "from google_play_scraper import app, reviews, Sort\n",
    "\n",
    "# Get WhatsApp app information\n",
    "app_info = app('com.whatsapp')\n",
    "print(app_info)\n",
    "\n",
    "# Get WhatsApp reviews based on relevance (most helpful)\n",
    "result, _ = reviews(\n",
    "    'com.whatsapp',\n",
    "    lang='en',  # English language\n",
    "    country='us',  # United States\n",
    "    sort=Sort.MOST_RELEVANT,  # Sort by relevance/helpfulness\n",
    "    count=500  # Get 500 most relevant reviews\n",
    ")\n",
    "\n",
    "# Save reviews to CSV, including star rating\n",
    "import csv\n",
    "with open('whatsapp_reviews_relevant.csv', 'w', newline='', encoding='utf-8') as file:\n",
    "    writer = csv.writer(file)\n",
    "    writer.writerow(['user', 'review', 'rating'])\n",
    "    \n",
    "    for review in result:\n",
    "        user = review['userName']\n",
    "        content = review['content']\n",
    "        rating = review['score']  # Star rating of the review\n",
    "        \n",
    "        # Write user, review content, and rating to the CSV file\n",
    "        writer.writerow([user, content, rating])\n",
    "\n",
    "print(\"Relevant reviews successfully retrieved and saved.\")"
   ]
  },
  {
   "cell_type": "code",
   "execution_count": null,
   "id": "9d8b09e7-b6ea-4f41-b1fc-26d1cd106736",
   "metadata": {},
   "outputs": [],
   "source": []
  }
 ],
 "metadata": {
  "kernelspec": {
   "display_name": "Python 3 (ipykernel)",
   "language": "python",
   "name": "python3"
  },
  "language_info": {
   "codemirror_mode": {
    "name": "ipython",
    "version": 3
   },
   "file_extension": ".py",
   "mimetype": "text/x-python",
   "name": "python",
   "nbconvert_exporter": "python",
   "pygments_lexer": "ipython3",
   "version": "3.12.9"
  }
 },
 "nbformat": 4,
 "nbformat_minor": 5
}
