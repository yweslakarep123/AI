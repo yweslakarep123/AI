{
 "cells": [
  {
   "cell_type": "code",
   "execution_count": 2,
   "id": "bc69cdb3-fc2a-48b0-af9c-9487979dbdab",
   "metadata": {},
   "outputs": [
    {
     "name": "stdout",
     "output_type": "stream",
     "text": [
      "hello\n"
     ]
    }
   ],
   "source": [
    "print('hello')"
   ]
  },
  {
   "cell_type": "code",
   "execution_count": 1,
   "id": "e1529837-5fbd-478f-9f3e-f64040b8c186",
   "metadata": {},
   "outputs": [
    {
     "data": {
      "text/html": [
       "<div>\n",
       "<style scoped>\n",
       "    .dataframe tbody tr th:only-of-type {\n",
       "        vertical-align: middle;\n",
       "    }\n",
       "\n",
       "    .dataframe tbody tr th {\n",
       "        vertical-align: top;\n",
       "    }\n",
       "\n",
       "    .dataframe thead th {\n",
       "        text-align: right;\n",
       "    }\n",
       "</style>\n",
       "<table border=\"1\" class=\"dataframe\">\n",
       "  <thead>\n",
       "    <tr style=\"text-align: right;\">\n",
       "      <th></th>\n",
       "      <th>user</th>\n",
       "      <th>review</th>\n",
       "      <th>rating</th>\n",
       "    </tr>\n",
       "  </thead>\n",
       "  <tbody>\n",
       "    <tr>\n",
       "      <th>0</th>\n",
       "      <td>prabandaru koesworo</td>\n",
       "      <td>Ini aplikasi jangan pake gopaynya, gopaynya ma...</td>\n",
       "      <td>1</td>\n",
       "    </tr>\n",
       "    <tr>\n",
       "      <th>1</th>\n",
       "      <td>Jerry h</td>\n",
       "      <td>Kalau ketentuan untuk semua Gocar, bisa ditera...</td>\n",
       "      <td>2</td>\n",
       "    </tr>\n",
       "    <tr>\n",
       "      <th>2</th>\n",
       "      <td>Desy Adela</td>\n",
       "      <td>Pesan gosend sampai 2 jam Pertama, pesan sudah...</td>\n",
       "      <td>1</td>\n",
       "    </tr>\n",
       "    <tr>\n",
       "      <th>3</th>\n",
       "      <td>Dewita Nur Wulandari</td>\n",
       "      <td>pesan makan udh sejam tp gaada driver yang mau...</td>\n",
       "      <td>1</td>\n",
       "    </tr>\n",
       "    <tr>\n",
       "      <th>4</th>\n",
       "      <td>Ridwan Mono</td>\n",
       "      <td>Benar2 membantu. Cuma kadang2 apk-nya suka err...</td>\n",
       "      <td>5</td>\n",
       "    </tr>\n",
       "  </tbody>\n",
       "</table>\n",
       "</div>"
      ],
      "text/plain": [
       "                   user                                             review  \\\n",
       "0   prabandaru koesworo  Ini aplikasi jangan pake gopaynya, gopaynya ma...   \n",
       "1               Jerry h  Kalau ketentuan untuk semua Gocar, bisa ditera...   \n",
       "2            Desy Adela  Pesan gosend sampai 2 jam Pertama, pesan sudah...   \n",
       "3  Dewita Nur Wulandari  pesan makan udh sejam tp gaada driver yang mau...   \n",
       "4           Ridwan Mono  Benar2 membantu. Cuma kadang2 apk-nya suka err...   \n",
       "\n",
       "   rating  \n",
       "0       1  \n",
       "1       2  \n",
       "2       1  \n",
       "3       1  \n",
       "4       5  "
      ]
     },
     "metadata": {},
     "output_type": "display_data"
    },
    {
     "name": "stdout",
     "output_type": "stream",
     "text": [
      "DataFrame shape: (500, 3)\n",
      "Text column: content\n"
     ]
    }
   ],
   "source": [
    "import pandas as pd\n",
    "\n",
    "try:\n",
    "    df = pd.read_csv('gojek_reviews_relevant_sentiment.csv', encoding='utf-8')\n",
    "except UnicodeDecodeError:\n",
    "    try:\n",
    "        df = pd.read_csv('gojek_reviews_relevant_sentiment.csv', encoding='latin-1')\n",
    "    except Exception as e:\n",
    "        print(f\"Error loading the file: {e}\")\n",
    "        df = None\n",
    "\n",
    "if df is not None:\n",
    "    text_column = 'content' # Assuming the column name is 'content' for the reviews\n",
    "\n",
    "    display(df.head())\n",
    "    print(f\"DataFrame shape: {df.shape}\")\n",
    "    print(f\"Text column: {text_column}\")"
   ]
  },
  {
   "cell_type": "markdown",
   "id": "e3af67b3-3f9e-48b5-8456-21b27645670b",
   "metadata": {},
   "source": [
    "<h1>Preprocessing</h1>\n",
    "<h2>Case folding</h2>"
   ]
  },
  {
   "cell_type": "code",
   "execution_count": 2,
   "id": "937cce21-4ea3-4be0-8de2-085148d58850",
   "metadata": {},
   "outputs": [
    {
     "name": "stdout",
     "output_type": "stream",
     "text": [
      "0    ini aplikasi jangan pake gopaynya, gopaynya ma...\n",
      "1    kalau ketentuan untuk semua gocar, bisa ditera...\n",
      "2    pesan gosend sampai 2 jam pertama, pesan sudah...\n",
      "3    pesan makan udh sejam tp gaada driver yang mau...\n",
      "4    benar2 membantu. cuma kadang2 apk-nya suka err...\n",
      "Name: review, dtype: object\n"
     ]
    }
   ],
   "source": [
    "df['review'] = df['review'].str.lower()\n",
    "print(df['review'].head())"
   ]
  },
  {
   "cell_type": "markdown",
   "id": "0d2506fe-5ac0-4872-b3dc-b7b8178bb34d",
   "metadata": {},
   "source": [
    "<h2>Tokenize</h2>"
   ]
  },
  {
   "cell_type": "code",
   "execution_count": 3,
   "id": "cbf05477-17be-4c41-8232-97e1d4f2ce44",
   "metadata": {},
   "outputs": [
    {
     "data": {
      "text/plain": [
       "0      (ini, aplikasi, jangan, pake, gopaynya, ,, gop...\n",
       "1      (kalau, ketentuan, untuk, semua, gocar, ,, bis...\n",
       "2      (pesan, gosend, sampai, 2, jam, pertama, ,, pe...\n",
       "3      (pesan, makan, udh, sejam, tp, gaada, driver, ...\n",
       "4      (benar2, membantu, ., cuma, kadang2, apk, -nya...\n",
       "                             ...                        \n",
       "495    (dapet, driver, susah, banget, ,, pasti, di, c...\n",
       "496    (lumayan, jarang, gunain, fitur, gocar, ,, ser...\n",
       "497    (sejak, versi, terbaru, ,, pemesanan, (, go-fo...\n",
       "498    (aplikasi, yg, mnurut, saya, merugikan, penggu...\n",
       "499    (nama, gonta, ganti, terus, ,, tapi, slot, dan...\n",
       "Name: review_tokenized, Length: 500, dtype: object"
      ]
     },
     "metadata": {},
     "output_type": "display_data"
    }
   ],
   "source": [
    "from spacy.lang.id import Indonesian\n",
    "# load language model bahasa Indonesia\n",
    "spacy_id = Indonesian()\n",
    "\n",
    "# Menerapkan model spaCy pada teks dalam kolom 'review'\n",
    "df['review_tokenized'] = df['review'].apply(lambda text: spacy_id(text))\n",
    "\n",
    "# Jika ingin menampilkan dataframe\n",
    "display(df['review_tokenized'])"
   ]
  },
  {
   "cell_type": "markdown",
   "id": "54f14858-16f0-46b4-bdd5-8d6a2460e9b2",
   "metadata": {},
   "source": [
    "<h2>Stopword removal</h2>"
   ]
  },
  {
   "cell_type": "code",
   "execution_count": 4,
   "id": "6a781e1d-6bfe-4a01-856b-8c75aef9e6f0",
   "metadata": {},
   "outputs": [],
   "source": [
    "from Sastrawi.StopWordRemover.StopWordRemoverFactory import StopWordRemoverFactory\n",
    "\n",
    "# Mendapatkan daftar stopwords dan pembuatan stopword remover\n",
    "factory = StopWordRemoverFactory()\n",
    "stopword_remover = factory.create_stop_word_remover()\n",
    "sastrawi_stw_id = factory.get_stop_words()\n",
    "\n",
    "# Fungsi untuk menghapus stopwords\n",
    "def remove_stopwords(text):\n",
    "    # Menghapus stopwords langsung menggunakan Sastrawi\n",
    "    return stopword_remover.remove(text)\n",
    "\n",
    "# Menerapkan fungsi ke kolom 'review'\n",
    "df['no_stopword'] = df['review'].apply(remove_stopwords)"
   ]
  },
  {
   "cell_type": "code",
   "execution_count": 5,
   "id": "487a8a73-d1c1-4e4d-8e6a-54740e29aeeb",
   "metadata": {},
   "outputs": [
    {
     "data": {
      "text/html": [
       "<div>\n",
       "<style scoped>\n",
       "    .dataframe tbody tr th:only-of-type {\n",
       "        vertical-align: middle;\n",
       "    }\n",
       "\n",
       "    .dataframe tbody tr th {\n",
       "        vertical-align: top;\n",
       "    }\n",
       "\n",
       "    .dataframe thead th {\n",
       "        text-align: right;\n",
       "    }\n",
       "</style>\n",
       "<table border=\"1\" class=\"dataframe\">\n",
       "  <thead>\n",
       "    <tr style=\"text-align: right;\">\n",
       "      <th></th>\n",
       "      <th>user</th>\n",
       "      <th>review</th>\n",
       "      <th>rating</th>\n",
       "      <th>review_tokenized</th>\n",
       "      <th>no_stopword</th>\n",
       "    </tr>\n",
       "  </thead>\n",
       "  <tbody>\n",
       "    <tr>\n",
       "      <th>0</th>\n",
       "      <td>prabandaru koesworo</td>\n",
       "      <td>ini aplikasi jangan pake gopaynya, gopaynya ma...</td>\n",
       "      <td>1</td>\n",
       "      <td>(ini, aplikasi, jangan, pake, gopaynya, ,, gop...</td>\n",
       "      <td>aplikasi jangan pake gopaynya, gopaynya makan ...</td>\n",
       "    </tr>\n",
       "    <tr>\n",
       "      <th>1</th>\n",
       "      <td>Jerry h</td>\n",
       "      <td>kalau ketentuan untuk semua gocar, bisa ditera...</td>\n",
       "      <td>2</td>\n",
       "      <td>(kalau, ketentuan, untuk, semua, gocar, ,, bis...</td>\n",
       "      <td>kalau ketentuan semua gocar, diterapkan kyk pe...</td>\n",
       "    </tr>\n",
       "    <tr>\n",
       "      <th>2</th>\n",
       "      <td>Desy Adela</td>\n",
       "      <td>pesan gosend sampai 2 jam pertama, pesan sudah...</td>\n",
       "      <td>1</td>\n",
       "      <td>(pesan, gosend, sampai, 2, jam, pertama, ,, pe...</td>\n",
       "      <td>pesan gosend 2 jam pertama, pesan dapat driver...</td>\n",
       "    </tr>\n",
       "    <tr>\n",
       "      <th>3</th>\n",
       "      <td>Dewita Nur Wulandari</td>\n",
       "      <td>pesan makan udh sejam tp gaada driver yang mau...</td>\n",
       "      <td>1</td>\n",
       "      <td>(pesan, makan, udh, sejam, tp, gaada, driver, ...</td>\n",
       "      <td>pesan makan udh sejam tp gaada driver mau ambi...</td>\n",
       "    </tr>\n",
       "    <tr>\n",
       "      <th>4</th>\n",
       "      <td>Ridwan Mono</td>\n",
       "      <td>benar2 membantu. cuma kadang2 apk-nya suka err...</td>\n",
       "      <td>5</td>\n",
       "      <td>(benar2, membantu, ., cuma, kadang2, apk, -nya...</td>\n",
       "      <td>benar2 membantu. cuma kadang2 apk-nya suka err...</td>\n",
       "    </tr>\n",
       "  </tbody>\n",
       "</table>\n",
       "</div>"
      ],
      "text/plain": [
       "                   user                                             review  \\\n",
       "0   prabandaru koesworo  ini aplikasi jangan pake gopaynya, gopaynya ma...   \n",
       "1               Jerry h  kalau ketentuan untuk semua gocar, bisa ditera...   \n",
       "2            Desy Adela  pesan gosend sampai 2 jam pertama, pesan sudah...   \n",
       "3  Dewita Nur Wulandari  pesan makan udh sejam tp gaada driver yang mau...   \n",
       "4           Ridwan Mono  benar2 membantu. cuma kadang2 apk-nya suka err...   \n",
       "\n",
       "   rating                                   review_tokenized  \\\n",
       "0       1  (ini, aplikasi, jangan, pake, gopaynya, ,, gop...   \n",
       "1       2  (kalau, ketentuan, untuk, semua, gocar, ,, bis...   \n",
       "2       1  (pesan, gosend, sampai, 2, jam, pertama, ,, pe...   \n",
       "3       1  (pesan, makan, udh, sejam, tp, gaada, driver, ...   \n",
       "4       5  (benar2, membantu, ., cuma, kadang2, apk, -nya...   \n",
       "\n",
       "                                         no_stopword  \n",
       "0  aplikasi jangan pake gopaynya, gopaynya makan ...  \n",
       "1  kalau ketentuan semua gocar, diterapkan kyk pe...  \n",
       "2  pesan gosend 2 jam pertama, pesan dapat driver...  \n",
       "3  pesan makan udh sejam tp gaada driver mau ambi...  \n",
       "4  benar2 membantu. cuma kadang2 apk-nya suka err...  "
      ]
     },
     "execution_count": 5,
     "metadata": {},
     "output_type": "execute_result"
    }
   ],
   "source": [
    "df.head()"
   ]
  },
  {
   "cell_type": "markdown",
   "id": "9ef247e4-5e33-49fc-9d84-43050df472b4",
   "metadata": {},
   "source": [
    "<h2>Stemming</h2>"
   ]
  },
  {
   "cell_type": "code",
   "execution_count": 6,
   "id": "86caed61-52af-451b-b982-2e639a87fbff",
   "metadata": {},
   "outputs": [],
   "source": [
    "from Sastrawi.Stemmer.StemmerFactory import StemmerFactory\n",
    "stemmer = StemmerFactory().create_stemmer()\n",
    "\n",
    "def stemmed(text):\n",
    "    # Apply stemming to the text\n",
    "    return stemmer.stem(text)\n",
    "\n",
    "df['stemmed_review'] = df['review'].apply(stemmed)"
   ]
  },
  {
   "cell_type": "code",
   "execution_count": 7,
   "id": "31f62298-8bc6-4d68-9646-1b62af261092",
   "metadata": {},
   "outputs": [
    {
     "data": {
      "text/html": [
       "<div>\n",
       "<style scoped>\n",
       "    .dataframe tbody tr th:only-of-type {\n",
       "        vertical-align: middle;\n",
       "    }\n",
       "\n",
       "    .dataframe tbody tr th {\n",
       "        vertical-align: top;\n",
       "    }\n",
       "\n",
       "    .dataframe thead th {\n",
       "        text-align: right;\n",
       "    }\n",
       "</style>\n",
       "<table border=\"1\" class=\"dataframe\">\n",
       "  <thead>\n",
       "    <tr style=\"text-align: right;\">\n",
       "      <th></th>\n",
       "      <th>user</th>\n",
       "      <th>review</th>\n",
       "      <th>rating</th>\n",
       "      <th>review_tokenized</th>\n",
       "      <th>no_stopword</th>\n",
       "      <th>stemmed_review</th>\n",
       "    </tr>\n",
       "  </thead>\n",
       "  <tbody>\n",
       "    <tr>\n",
       "      <th>0</th>\n",
       "      <td>prabandaru koesworo</td>\n",
       "      <td>ini aplikasi jangan pake gopaynya, gopaynya ma...</td>\n",
       "      <td>1</td>\n",
       "      <td>(ini, aplikasi, jangan, pake, gopaynya, ,, gop...</td>\n",
       "      <td>aplikasi jangan pake gopaynya, gopaynya makan ...</td>\n",
       "      <td>ini aplikasi jangan pake gopaynya gopaynya mak...</td>\n",
       "    </tr>\n",
       "    <tr>\n",
       "      <th>1</th>\n",
       "      <td>Jerry h</td>\n",
       "      <td>kalau ketentuan untuk semua gocar, bisa ditera...</td>\n",
       "      <td>2</td>\n",
       "      <td>(kalau, ketentuan, untuk, semua, gocar, ,, bis...</td>\n",
       "      <td>kalau ketentuan semua gocar, diterapkan kyk pe...</td>\n",
       "      <td>kalau tentu untuk semua gocar bisa terap kyk a...</td>\n",
       "    </tr>\n",
       "    <tr>\n",
       "      <th>2</th>\n",
       "      <td>Desy Adela</td>\n",
       "      <td>pesan gosend sampai 2 jam pertama, pesan sudah...</td>\n",
       "      <td>1</td>\n",
       "      <td>(pesan, gosend, sampai, 2, jam, pertama, ,, pe...</td>\n",
       "      <td>pesan gosend 2 jam pertama, pesan dapat driver...</td>\n",
       "      <td>pesan gosend sampai 2 jam pertama pesan sudah ...</td>\n",
       "    </tr>\n",
       "    <tr>\n",
       "      <th>3</th>\n",
       "      <td>Dewita Nur Wulandari</td>\n",
       "      <td>pesan makan udh sejam tp gaada driver yang mau...</td>\n",
       "      <td>1</td>\n",
       "      <td>(pesan, makan, udh, sejam, tp, gaada, driver, ...</td>\n",
       "      <td>pesan makan udh sejam tp gaada driver mau ambi...</td>\n",
       "      <td>pesan makan udh jam tp gaada driver yang mau a...</td>\n",
       "    </tr>\n",
       "    <tr>\n",
       "      <th>4</th>\n",
       "      <td>Ridwan Mono</td>\n",
       "      <td>benar2 membantu. cuma kadang2 apk-nya suka err...</td>\n",
       "      <td>5</td>\n",
       "      <td>(benar2, membantu, ., cuma, kadang2, apk, -nya...</td>\n",
       "      <td>benar2 membantu. cuma kadang2 apk-nya suka err...</td>\n",
       "      <td>benar2 bantu cuma kadang2 apk-nya suka error p...</td>\n",
       "    </tr>\n",
       "  </tbody>\n",
       "</table>\n",
       "</div>"
      ],
      "text/plain": [
       "                   user                                             review  \\\n",
       "0   prabandaru koesworo  ini aplikasi jangan pake gopaynya, gopaynya ma...   \n",
       "1               Jerry h  kalau ketentuan untuk semua gocar, bisa ditera...   \n",
       "2            Desy Adela  pesan gosend sampai 2 jam pertama, pesan sudah...   \n",
       "3  Dewita Nur Wulandari  pesan makan udh sejam tp gaada driver yang mau...   \n",
       "4           Ridwan Mono  benar2 membantu. cuma kadang2 apk-nya suka err...   \n",
       "\n",
       "   rating                                   review_tokenized  \\\n",
       "0       1  (ini, aplikasi, jangan, pake, gopaynya, ,, gop...   \n",
       "1       2  (kalau, ketentuan, untuk, semua, gocar, ,, bis...   \n",
       "2       1  (pesan, gosend, sampai, 2, jam, pertama, ,, pe...   \n",
       "3       1  (pesan, makan, udh, sejam, tp, gaada, driver, ...   \n",
       "4       5  (benar2, membantu, ., cuma, kadang2, apk, -nya...   \n",
       "\n",
       "                                         no_stopword  \\\n",
       "0  aplikasi jangan pake gopaynya, gopaynya makan ...   \n",
       "1  kalau ketentuan semua gocar, diterapkan kyk pe...   \n",
       "2  pesan gosend 2 jam pertama, pesan dapat driver...   \n",
       "3  pesan makan udh sejam tp gaada driver mau ambi...   \n",
       "4  benar2 membantu. cuma kadang2 apk-nya suka err...   \n",
       "\n",
       "                                      stemmed_review  \n",
       "0  ini aplikasi jangan pake gopaynya gopaynya mak...  \n",
       "1  kalau tentu untuk semua gocar bisa terap kyk a...  \n",
       "2  pesan gosend sampai 2 jam pertama pesan sudah ...  \n",
       "3  pesan makan udh jam tp gaada driver yang mau a...  \n",
       "4  benar2 bantu cuma kadang2 apk-nya suka error p...  "
      ]
     },
     "execution_count": 7,
     "metadata": {},
     "output_type": "execute_result"
    }
   ],
   "source": [
    "df.head()"
   ]
  },
  {
   "cell_type": "markdown",
   "id": "88fda3e5-9b0a-489e-8b5d-4dc89b845948",
   "metadata": {},
   "source": [
    "<h2>Lemmatize</h2>"
   ]
  },
  {
   "cell_type": "code",
   "execution_count": 8,
   "id": "6ebf60e2-9cef-42c5-ad1e-6b3504cdac1f",
   "metadata": {},
   "outputs": [
    {
     "name": "stdout",
     "output_type": "stream",
     "text": [
      "        \n"
     ]
    }
   ],
   "source": [
    "I = \"perayaan itu berbarengan dengan saat kita bepergian ke Jogjakarta\"\n",
    "idn = spacy_id(I)\n",
    "print( ' '.join( k.lemma_ for k in idn ) )"
   ]
  },
  {
   "cell_type": "code",
   "execution_count": 9,
   "id": "3f45420b-bd42-4e66-b1b6-978a8e2ea88a",
   "metadata": {},
   "outputs": [
    {
     "name": "stdout",
     "output_type": "stream",
     "text": [
      "['', '']\n"
     ]
    }
   ],
   "source": [
    "print([k.lemma_ for k in spacy_id(\"Perayaan Bepergian\")])"
   ]
  },
  {
   "cell_type": "code",
   "execution_count": 8,
   "id": "ecacf1f2-0a32-4dfc-96b4-a5a9b51a371a",
   "metadata": {},
   "outputs": [
    {
     "name": "stderr",
     "output_type": "stream",
     "text": [
      "C:\\Users\\Asus\\miniconda3\\envs\\stki\\Lib\\site-packages\\tqdm\\auto.py:21: TqdmWarning: IProgress not found. Please update jupyter and ipywidgets. See https://ipywidgets.readthedocs.io/en/stable/user_install.html\n",
      "  from .autonotebook import tqdm as notebook_tqdm\n",
      "C:\\Users\\Asus\\miniconda3\\envs\\stki\\Lib\\site-packages\\huggingface_hub\\file_download.py:142: UserWarning: `huggingface_hub` cache-system uses symlinks by default to efficiently store duplicated files but your machine does not support them in C:\\Users\\Asus\\.cache\\huggingface\\hub\\models--cahya--bert-base-indonesian-NER. Caching files will still work but in a degraded version that might require more space on your disk. This warning can be disabled by setting the `HF_HUB_DISABLE_SYMLINKS_WARNING` environment variable. For more details, see https://huggingface.co/docs/huggingface_hub/how-to-cache#limitations.\n",
      "To support symlinks on Windows, you either need to activate Developer Mode or to run Python as an administrator. In order to activate developer mode, see this article: https://docs.microsoft.com/en-us/windows/apps/get-started/enable-your-device-for-development\n",
      "  warnings.warn(message)\n",
      "Some weights of the model checkpoint at cahya/bert-base-indonesian-NER were not used when initializing BertForTokenClassification: ['bert.pooler.dense.bias', 'bert.pooler.dense.weight']\n",
      "- This IS expected if you are initializing BertForTokenClassification from the checkpoint of a model trained on another task or with another architecture (e.g. initializing a BertForSequenceClassification model from a BertForPreTraining model).\n",
      "- This IS NOT expected if you are initializing BertForTokenClassification from the checkpoint of a model that you expect to be exactly identical (initializing a BertForSequenceClassification model from a BertForSequenceClassification model).\n",
      "Device set to use cpu\n",
      "Asking to truncate to max_length but no maximum length is provided and the model has no predefined maximum length. Default to no truncation.\n"
     ]
    },
    {
     "name": "stdout",
     "output_type": "stream",
     "text": [
      "Lemmatization complete!\n"
     ]
    }
   ],
   "source": [
    "import pandas as pd\n",
    "from transformers import pipeline\n",
    "\n",
    "# Load the NLP pipeline\n",
    "nlp = pipeline(\n",
    "    \"token-classification\", \n",
    "    model=\"cahya/bert-base-indonesian-NER\",\n",
    "    tokenizer=\"cahya/bert-base-indonesian-NER\"\n",
    ")\n",
    "\n",
    "# Function to lemmatize text using the transformer model\n",
    "def lemmatize_with_transformer(text):\n",
    "    # Skip processing if text is not a string or is empty\n",
    "    if not isinstance(text, str) or len(text.strip()) == 0:\n",
    "        return \"\"\n",
    "    \n",
    "    # Use the model to get tokens and tags\n",
    "    results = nlp(text)\n",
    "    \n",
    "    # Extract tokens\n",
    "    tokens = []\n",
    "    current_token = \"\"\n",
    "    for result in results:\n",
    "        if result['word'].startswith('##'):\n",
    "            current_token += result['word'][2:]\n",
    "        else:\n",
    "            if current_token:\n",
    "                tokens.append(current_token)\n",
    "            current_token = result['word']\n",
    "    if current_token:\n",
    "        tokens.append(current_token)\n",
    "    \n",
    "    # Join tokens to form lemmatized text\n",
    "    return \" \".join(tokens)\n",
    "\n",
    "# Apply the lemmatization function to the 'review' column\n",
    "# Replace 'review' with your actual column name\n",
    "df['lemmatized_review'] = df['review'].apply(lemmatize_with_transformer)\n",
    "\n",
    "# Save the updated DataFrame to a new CSV if needed\n",
    "df.to_csv('lemmatized_output.csv', index=False)\n",
    "\n",
    "print(\"Lemmatization complete!\")"
   ]
  },
  {
   "cell_type": "code",
   "execution_count": null,
   "id": "93abad53-2427-4f4d-b848-6010838e9c6e",
   "metadata": {},
   "outputs": [],
   "source": []
  }
 ],
 "metadata": {
  "kernelspec": {
   "display_name": "Python 3 (ipykernel)",
   "language": "python",
   "name": "python3"
  },
  "language_info": {
   "codemirror_mode": {
    "name": "ipython",
    "version": 3
   },
   "file_extension": ".py",
   "mimetype": "text/x-python",
   "name": "python",
   "nbconvert_exporter": "python",
   "pygments_lexer": "ipython3",
   "version": "3.12.9"
  }
 },
 "nbformat": 4,
 "nbformat_minor": 5
}
