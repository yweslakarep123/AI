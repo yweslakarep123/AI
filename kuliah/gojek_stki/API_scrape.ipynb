{
 "cells": [
  {
   "cell_type": "code",
   "execution_count": 1,
   "id": "3f99574f-9017-411b-8d0c-a693b5b307c9",
   "metadata": {},
   "outputs": [
    {
     "name": "stdout",
     "output_type": "stream",
     "text": [
      "{'title': 'Gojek - Food & Transportation', 'description': 'Save more with Gojek, enjoy affordable and reliable services for all your daily needs.\\r\\n\\r\\nGojek is a super-app that’s here to help you navigate your daily life easily and affordably. From going places to having your favorite meals delivered to you, you can get it all done with Gojek! \\r\\n\\r\\nHere’s all the uber cool services you can find~\\r\\n\\r\\nNeed to go somewhere quickly? Try GoRide to take you there, or GoCar for extra comfort on the way.\\r\\n\\r\\nCraving something tasty to share with loved ones? No worries, just explore unlimited options on GoFood with affordable prices.\\r\\n\\r\\nTrust GoSend for all your deliveries, and have your items delivered ASAP with on-time guarantee plus insurance for your peace of mind.\\r\\n\\r\\nSay goodbye to the hassle of grocery shopping, let GoMart help you shop and have it delivered to your doorstep in just 30 minutes or less.\\r\\n\\r\\nWait – it gets better! You can also subscribe to Gojek PLUS to get up to 12k discount on every transaction for all Gojek services!\\r\\n\\r\\nNeed to communicate smoothly with the driver during your ongoing transaction? Easy, just use our full-screen free call feature on the app.\\r\\n\\r\\nSo, what are you waiting for? Download now and get ready to enjoy affordability and reliability for all your daily needs with Gojek!\\r\\n\\r\\n(Terms and Conditions apply)', 'descriptionHTML': 'Save more with Gojek, enjoy affordable and reliable services for all your daily needs.<br><br>Gojek is a super-app that’s here to help you navigate your daily life easily and affordably. From going places to having your favorite meals delivered to you, you can get it all done with Gojek! <br><br>Here’s all the uber cool services you can find~<br><br>Need to go somewhere quickly? Try GoRide to take you there, or GoCar for extra comfort on the way.<br><br>Craving something tasty to share with loved ones? No worries, just explore unlimited options on GoFood with affordable prices.<br><br>Trust GoSend for all your deliveries, and have your items delivered ASAP with on-time guarantee plus insurance for your peace of mind.<br><br>Say goodbye to the hassle of grocery shopping, let GoMart help you shop and have it delivered to your doorstep in just 30 minutes or less.<br><br>Wait – it gets better! You can also subscribe to Gojek PLUS to get up to 12k discount on every transaction for all Gojek services!<br><br>Need to communicate smoothly with the driver during your ongoing transaction? Easy, just use our full-screen free call feature on the app.<br><br>So, what are you waiting for? Download now and get ready to enjoy affordability and reliability for all your daily needs with Gojek!<br><br>(Terms and Conditions apply)', 'summary': 'Go places, buy meals, shop and deliver items more affordably with Gojek', 'installs': '100,000,000+', 'minInstalls': 100000000, 'realInstalls': 162458376, 'score': 4.3486238, 'ratings': 6246290, 'reviews': 3431, 'histogram': [802275, 71454, 142909, 357981, 4870960], 'price': 0, 'free': True, 'currency': 'USD', 'sale': False, 'saleTime': None, 'originalPrice': None, 'saleText': None, 'offersIAP': False, 'inAppProductPrice': None, 'developer': 'PT. GoTo Gojek Tokopedia Tbk', 'developerId': '4853785597837765677', 'developerEmail': 'info@gojek.com', 'developerWebsite': 'https://www.gojek.com', 'developerAddress': 'Pasaraya Blok M Gedung B Lt. 6, Jalan Iskandarsyah II No.7, RW. 2, Melawai, Kebayoran Baru, RT.3/RW.1, Kota Jakarta Selatan, 12160, Indonesia', 'privacyPolicy': 'http://www.gojek.com/privacy-policy/', 'genre': 'Travel & Local', 'genreId': 'TRAVEL_AND_LOCAL', 'categories': [{'name': 'Travel & Local', 'id': 'TRAVEL_AND_LOCAL'}], 'icon': 'https://play-lh.googleusercontent.com/7geaWzM1Oz6fPZ4LvgNptt7Ds2mwm7hbeItlPGYGrhdUQfIe06BK0O4jS9ZDgoTAvIU', 'headerImage': 'https://play-lh.googleusercontent.com/IT-4gpRmMwvtYlw5M3JbamStGWlDArwYDXaWex0kbhEy-jyb5txK2Ri4GtS6syghui8', 'screenshots': ['https://play-lh.googleusercontent.com/d2ZjQTfgxH9u3RRxai20EnBPSHdQnjOGtLRQWQMr_zB69DEBoJh-LzojLrbqZnaeHPU', 'https://play-lh.googleusercontent.com/nccyWCwTFLGzZLDTZnotfGSNnCMClnGnh1CkSHyOd66xez-qz3XwQYtVC2uB4FP15JE', 'https://play-lh.googleusercontent.com/ANsf5UcWaNoPhLZQZuyPnyqJxC9ZqU1eVIj0FAuZIpn0p1hFcXPnaTP6JONheAIu0y0', 'https://play-lh.googleusercontent.com/CeqDWSRPKRVSbkoKkKhkX7YlyCpsNC5V1KvVMXJtKcuMk6vJKE7gCRrM7_YQmd5qkQ8', 'https://play-lh.googleusercontent.com/nk8tp5RsLziobm5aiIRQin5N5GGsW3mJ_puz8c3_c6VQ4yo07jg1tKZLG7R7VzAtsyoX', 'https://play-lh.googleusercontent.com/UDUuX5qlFshoa-uxdZ41drPYdCaUCEK3zb3qHmIKbfYJJF1bwTpxE6BhDYNXSsaZmg', 'https://play-lh.googleusercontent.com/U6BGeI5y7atF3PnQe3wwOVY2j8e1SYi-YDQzRy6Go4YXKiRVcWiY7Ld6k_XK4HzA-rA', 'https://play-lh.googleusercontent.com/oL6Rv4xtc96Cxlbi0O9UkIyLOyINWS6_cEAgDHW8lCcORrBJTZBM8u-BUCK2w0OJof4', 'https://play-lh.googleusercontent.com/aDqxGemjJ7f3uk1vdL3zoK9uIjhu1w2c51XO5Ofic7scCosX03IlAjN-vLXQqPieodQ', 'https://play-lh.googleusercontent.com/ydRhoWl7CDQDQGj7fDVcAD0e1cWTDC86FMBV-ERdSSNMUim6YCNOPRXvtUMdTMnvJ2Q', 'https://play-lh.googleusercontent.com/IKC2VXL6HxSFn4lyU5mOolin9MTT_xm69SxXo0kZB7eNBZum1McRgD4M_WZ_QrNwxoEO', 'https://play-lh.googleusercontent.com/yxMdwrRk4ck7rVrZJQ23bPk38JJUlgvIjCttJbc8fNqREFruRRyLdZK-oNvWUjL5aCM', 'https://play-lh.googleusercontent.com/0FOvPH5MvjdpNN0XEE3QG1vwqWfAvzKWJHcP9QQMJ-ITagh5_VZTlb7ljIMWxK5wdxww', 'https://play-lh.googleusercontent.com/JaeaIchmRrSGaZxSMnrANhc9x8j3icLsmyk9k4ZhsTFw2r38q362hgTyZ0wTe8yxzQY8', 'https://play-lh.googleusercontent.com/DaBgWA_QL9W39y93kC0phxXNabEFRDDxy-8pPvOzq-kfWYvEu-lKZMoXSZAa130U0ZQ', 'https://play-lh.googleusercontent.com/k1Yv2AqfA5JmnWSMKTRlclTfQkagNSTzqgKDXFLwTrrArnnk5GA9cOAR_x4T3pbuI00', 'https://play-lh.googleusercontent.com/jVqbmhzsOBVtKDCx68VNuKY_z8SlgVZhL6NtiJbDcLBnpAlUQ2FpTQ5ua0YOQw_q15s', 'https://play-lh.googleusercontent.com/WMlr8aMx2LRG5z06Apm5sn_Faxk1gzymFFR7s-4kXgttfU4jUZ3bjj_E5QUn8CjaS0g', 'https://play-lh.googleusercontent.com/dnx29M7CI5KBLRxxTmlMqbQ6wFYQctsFaR2iLWvhvacfNtksVcyR_DUnvRz9H1zmVg', 'https://play-lh.googleusercontent.com/ECtehqIPrtkDraHRTHAKbhriUHfnm87inK3dehkaJ36CxeaRO9187UAPaIyBN3wiDME', 'https://play-lh.googleusercontent.com/J3JGbXBw3B44NX3z14gagGl1oUPPxYQnO4BnMBIT6JJscYlvGA5N9bcRNeAbF-AMxCU', 'https://play-lh.googleusercontent.com/eupq2wnRYwtmp_rqnxTQABrGl7Wis6w-M0iwZeMNLsR2g2LtvUl7KcAgAkvrgYLFWkA', 'https://play-lh.googleusercontent.com/V_v8ZmtxKVVhghcTwWWQLDBWwnUA1oVhEGBG64BgF_E2n8r7csL4x0q42fgF2M4XWZE', 'https://play-lh.googleusercontent.com/mDAYw7n42FK3wiN3SgbQbK95-zYOzG3uDo0KZcfLsYGsWGJh46QZOJ2iwTY2NTqKRQ'], 'video': None, 'videoImage': None, 'contentRating': 'Everyone', 'contentRatingDescription': None, 'adSupported': False, 'containsAds': False, 'released': 'Feb 2, 2015', 'lastUpdatedOn': 'Mar 4, 2025', 'updated': 1741100589, 'version': '5.12.1', 'comments': [], 'appId': 'com.gojek.app', 'url': 'https://play.google.com/store/apps/details?id=com.gojek.app&hl=en&gl=us'}\n",
      "Ulasan relevan berhasil diambil dan disimpan.\n"
     ]
    }
   ],
   "source": [
    "from google_play_scraper import app, reviews, Sort\n",
    "\n",
    "# Ambil informasi aplikasi Gojek\n",
    "app_info = app('com.gojek.app')\n",
    "print(app_info)\n",
    "\n",
    "# Ambil ulasan aplikasi Gojek berdasarkan relevansi (most helpful)\n",
    "result, _ = reviews(\n",
    "    'com.gojek.app',\n",
    "    lang='id',  # Bahasa Indonesia\n",
    "    country='id',  # Negara Indonesia\n",
    "    sort=Sort.MOST_RELEVANT,  # Urutkan berdasarkan relevansi/kemanfaatan\n",
    "    count=500  # Ambil 100 ulasan terbaru\n",
    ")\n",
    "\n",
    "# Simpan ulasan ke CSV, termasuk rating bintang dan review quality\n",
    "import csv\n",
    "\n",
    "with open('gojek_reviews_relevant_sentiment.csv', 'w', newline='', encoding='utf-8') as file:\n",
    "    writer = csv.writer(file)\n",
    "    writer.writerow(['user', 'review', 'rating'])  # Removed 'review_quality' and added 'rating'\n",
    "    \n",
    "    for review in result:\n",
    "        user = review['userName']\n",
    "        content = review['content']\n",
    "        rating = review['score']  # Star rating of the review\n",
    "        \n",
    "        # Write user, review content, and rating to the CSV file\n",
    "        writer.writerow([user, content, rating])\n",
    "\n",
    "print(\"Ulasan relevan berhasil diambil dan disimpan.\")\n"
   ]
  },
  {
   "cell_type": "code",
   "execution_count": null,
   "id": "a3ac7466-7c46-41dd-aa6d-7a2e87fba4dd",
   "metadata": {},
   "outputs": [],
   "source": []
  }
 ],
 "metadata": {
  "kernelspec": {
   "display_name": "Python 3 (ipykernel)",
   "language": "python",
   "name": "python3"
  },
  "language_info": {
   "codemirror_mode": {
    "name": "ipython",
    "version": 3
   },
   "file_extension": ".py",
   "mimetype": "text/x-python",
   "name": "python",
   "nbconvert_exporter": "python",
   "pygments_lexer": "ipython3",
   "version": "3.12.9"
  }
 },
 "nbformat": 4,
 "nbformat_minor": 5
}
