{
  "nbformat": 4,
  "nbformat_minor": 0,
  "metadata": {
    "colab": {
      "provenance": [],
      "authorship_tag": "ABX9TyPMdUK7o4U6makz0NSZLlbG",
      "include_colab_link": true
    },
    "kernelspec": {
      "name": "python3",
      "display_name": "Python 3"
    },
    "language_info": {
      "name": "python"
    }
  },
  "cells": [
    {
      "cell_type": "markdown",
      "metadata": {
        "id": "view-in-github",
        "colab_type": "text"
      },
      "source": [
        "<a href=\"https://colab.research.google.com/github/yweslakarep123/decision_treeID3/blob/main/TUGAS_DECISION_TREE_ID3.ipynb\" target=\"_parent\"><img src=\"https://colab.research.google.com/assets/colab-badge.svg\" alt=\"Open In Colab\"/></a>"
      ]
    },
    {
      "cell_type": "code",
      "source": [
        "from google.colab import drive"
      ],
      "metadata": {
        "id": "Lzdp5PD8CQAl"
      },
      "execution_count": 1,
      "outputs": []
    },
    {
      "cell_type": "code",
      "source": [
        "drive.mount('/content/drive')"
      ],
      "metadata": {
        "colab": {
          "base_uri": "https://localhost:8080/"
        },
        "id": "DMGyaHOwCVNF",
        "outputId": "35a5b21e-d825-4ab8-9543-0d2b7c624bfc"
      },
      "execution_count": 2,
      "outputs": [
        {
          "output_type": "stream",
          "name": "stdout",
          "text": [
            "Mounted at /content/drive\n"
          ]
        }
      ]
    },
    {
      "cell_type": "code",
      "source": [
        "import pandas as pd\n",
        "from sklearn.datasets import load_iris\n",
        "\n",
        "# Memuat dataset Iris\n",
        "iris = load_iris()\n",
        "\n",
        "# Membuat DataFrame dari data dan menambahkan nama kolom\n",
        "iris_df = pd.DataFrame(data=iris.data, columns=iris.feature_names)\n",
        "\n",
        "# Menambahkan kolom target (spesies)\n",
        "iris_df['Species'] = iris.target_names[iris.target]\n",
        "\n",
        "# Menyimpan DataFrame sebagai file CSV di Colab\n",
        "iris_df.to_csv('/content/iris_dataset.csv', index=False)\n",
        "\n",
        "# Membaca dan menampilkan file CSV\n",
        "df = pd.read_csv('/content/iris_dataset.csv')\n",
        "print(df.head())\n"
      ],
      "metadata": {
        "colab": {
          "base_uri": "https://localhost:8080/"
        },
        "id": "kbz8ZEETC9EY",
        "outputId": "6908800c-f078-4143-8afb-edb71e2b469a"
      },
      "execution_count": null,
      "outputs": [
        {
          "output_type": "stream",
          "name": "stdout",
          "text": [
            "   sepal length (cm)  sepal width (cm)  petal length (cm)  petal width (cm)  \\\n",
            "0                5.1               3.5                1.4               0.2   \n",
            "1                4.9               3.0                1.4               0.2   \n",
            "2                4.7               3.2                1.3               0.2   \n",
            "3                4.6               3.1                1.5               0.2   \n",
            "4                5.0               3.6                1.4               0.2   \n",
            "\n",
            "  Species  \n",
            "0  setosa  \n",
            "1  setosa  \n",
            "2  setosa  \n",
            "3  setosa  \n",
            "4  setosa  \n"
          ]
        }
      ]
    },
    {
      "cell_type": "code",
      "source": [
        "import math"
      ],
      "metadata": {
        "id": "gy_eu4WIh6r6"
      },
      "execution_count": 5,
      "outputs": []
    },
    {
      "cell_type": "code",
      "execution_count": 6,
      "metadata": {
        "id": "xlOgnZ1QAcwJ"
      },
      "outputs": [],
      "source": [
        "import numpy as np\n",
        "from graphviz import Digraph\n",
        "class Node:\n",
        "    def __init__(self, feature=None, threshold=None, left=None, right=None, value=None):\n",
        "        self.feature = feature  # Fitur yang digunakan untuk memisahkan node\n",
        "        self.threshold = threshold  # Ambang batas pemisahan node\n",
        "        self.left = left  # Anak kiri dari node\n",
        "        self.right = right  # Anak kanan dari node\n",
        "        self.value = value  # Nilai prediksi jika node adalah leaf node\n",
        "\n",
        "class DecisionTreeID3:\n",
        "    def __init__(self, max_depth=None):\n",
        "        self.max_depth = max_depth  # Maksimal kedalaman pohon\n",
        "\n",
        "    # def _entropy(self, y):\n",
        "    #     # Hitung entropi dari kelas target\n",
        "    #     classes, counts = np.unique(y, return_counts=True)\n",
        "    #     probs = counts / len(y)\n",
        "    #     entropy = -np.sum(probs * np.log2(probs))\n",
        "    #     return entropy\n",
        "\n",
        "    def _entropy(self, y):\n",
        "    # Hitung entropi dari kelas target\n",
        "      unique_classes = set(y)\n",
        "      entropy = 0\n",
        "      total_samples = len(y)\n",
        "      for cls in unique_classes:\n",
        "          class_count = sum(1 for label in y if label == cls)\n",
        "          class_prob = class_count / total_samples\n",
        "          entropy -= class_prob * math.log2(class_prob)\n",
        "      return entropy\n",
        "\n",
        "\n",
        "    def _information_gain(self, X, y, feature, threshold):\n",
        "        # Hitung gain informasi untuk suatu fitur dan ambang tertentu\n",
        "        left_indices = X[:, feature] <= threshold\n",
        "        right_indices = ~left_indices\n",
        "        left_entropy = self._entropy(y[left_indices])\n",
        "        right_entropy = self._entropy(y[right_indices])\n",
        "        n = len(y)\n",
        "        left_weight = sum(left_indices) / n\n",
        "        right_weight = sum(right_indices) / n\n",
        "        gain = self._entropy(y) - (left_weight * left_entropy + right_weight * right_entropy)\n",
        "        return gain\n",
        "\n",
        "    def _find_best_split(self, X, y):\n",
        "        # Temukan pemisahan terbaik untuk setiap fitur\n",
        "        best_gain = 0\n",
        "        best_feature = None\n",
        "        best_threshold = None\n",
        "        for feature in range(X.shape[1]):\n",
        "            thresholds = np.unique(X[:, feature])\n",
        "            for threshold in thresholds:\n",
        "                gain = self._information_gain(X, y, feature, threshold)\n",
        "                if gain > best_gain:\n",
        "                    best_gain = gain\n",
        "                    best_feature = feature\n",
        "                    best_threshold = threshold\n",
        "        return best_feature, best_threshold\n",
        "\n",
        "    def _build_tree(self, X, y, depth):\n",
        "        # Rekursif membangun pohon keputusan\n",
        "        if depth == 0 or len(np.unique(y)) == 1:\n",
        "            # Jika sudah mencapai maksimal kedalaman atau semua sampel memiliki label yang sama\n",
        "            value = np.argmax(np.bincount(y))\n",
        "            return Node(value=value)\n",
        "\n",
        "        best_feature, best_threshold = self._find_best_split(X, y)\n",
        "        if best_feature is None:\n",
        "            # Jika tidak ada pemisahan yang ditemukan (mungkin semua nilai fitur sama)\n",
        "            value = np.argmax(np.bincount(y))\n",
        "            return Node(value=value)\n",
        "\n",
        "        left_indices = X[:, best_feature] <= best_threshold\n",
        "        right_indices = ~left_indices\n",
        "        left_child = self._build_tree(X[left_indices], y[left_indices], depth - 1)\n",
        "        right_child = self._build_tree(X[right_indices], y[right_indices], depth - 1)\n",
        "\n",
        "        return Node(feature=best_feature, threshold=best_threshold, left=left_child, right=right_child)\n",
        "\n",
        "    def fit(self, X, y):\n",
        "        # Membangun pohon keputusan dari data latih\n",
        "        self.root = self._build_tree(X, y, self.max_depth)\n",
        "\n",
        "    ########## RECURSIVE METHODE ##########\n",
        "    # def _predict(self, x, node):\n",
        "    #     # Rekursif untuk melakukan prediksi\n",
        "    #     if node.value is not None:\n",
        "    #         return node.value\n",
        "    #     if x[node.feature] <= node.threshold:\n",
        "    #         return self._predict(x, node.left)\n",
        "    #     else:\n",
        "    #         return self._predict(x, node.right)\n",
        "\n",
        "    ########## ITERATIVE METHODE ##########\n",
        "    def _predict(self, x, node):\n",
        "        # Mulai dari root node\n",
        "        current_node = self.root\n",
        "        while True:\n",
        "            # Jika node adalah leaf node, kembalikan nilai prediksi\n",
        "            if current_node.value is not None:\n",
        "                return current_node.value\n",
        "            # Jika fitur dari sampel kurang dari atau sama dengan ambang batas node saat ini,\n",
        "            # pindah ke anak kiri\n",
        "            if x[current_node.feature] <= current_node.threshold:\n",
        "                current_node = current_node.left\n",
        "            # Jika fitur dari sampel lebih besar dari ambang batas node saat ini,\n",
        "            # pindah ke anak kanan\n",
        "            else:\n",
        "                current_node = current_node.right\n",
        "\n",
        "\n",
        "    def predict(self, X):\n",
        "        # Prediksi label kelas untuk setiap sampel dalam X\n",
        "        return [self._predict(x, self.root) for x in X]\n",
        "\n",
        "    def _to_dot(self, node, dot):\n",
        "            if node is None:\n",
        "                return\n",
        "\n",
        "            dot.node(str(id(node)), label=f\"Feature: {node.feature}\\nThreshold: {node.threshold}\\nValue: {node.value}\")\n",
        "\n",
        "            if node.left is not None:\n",
        "                dot.edge(str(id(node)), str(id(node.left)), label=\"<= Threshold\")\n",
        "\n",
        "            if node.right is not None:\n",
        "                dot.edge(str(id(node)), str(id(node.right)), label=\"> Threshold\")\n",
        "\n",
        "            self._to_dot(node.left, dot)\n",
        "            self._to_dot(node.right, dot)\n",
        "\n",
        "    def display_tree(self):\n",
        "        dot = Digraph()\n",
        "        self._to_dot(self.root, dot)\n",
        "        dot.render('decision_tree', format='png', cleanup=True)\n",
        "        dot.view()\n"
      ]
    },
    {
      "cell_type": "code",
      "source": [
        "from sklearn.datasets import load_iris\n",
        "from sklearn.model_selection import train_test_split\n",
        "from sklearn.metrics import accuracy_score\n",
        "\n",
        "# Memuat dataset Iris\n",
        "iris = load_iris()\n",
        "X = iris.data\n",
        "y = iris.target\n",
        "\n",
        "# Bagi dataset menjadi data latih dan data uji\n",
        "X_train, X_test, y_train, y_test = train_test_split(X, y, test_size=0.2, random_state=42)\n",
        "\n",
        "# Inisialisasi dan latih model DecisionTreeID3\n",
        "model = DecisionTreeID3(max_depth=3)\n",
        "model.fit(X_train, y_train)\n",
        "# model.display_tree()\n",
        "\n",
        "# Lakukan prediksi pada data uji\n",
        "y_pred = model.predict(X_test)\n",
        "\n",
        "# Hitung akurasi prediksi\n",
        "accuracy = accuracy_score(y_test, y_pred)\n",
        "print(\"Accuracy:\", accuracy)\n"
      ],
      "metadata": {
        "colab": {
          "base_uri": "https://localhost:8080/"
        },
        "id": "p4cCQrWsAdee",
        "outputId": "47f6d95e-c575-496e-cb02-79fa2f4818f7"
      },
      "execution_count": 7,
      "outputs": [
        {
          "output_type": "stream",
          "name": "stdout",
          "text": [
            "Accuracy: 1.0\n"
          ]
        }
      ]
    },
    {
      "cell_type": "code",
      "source": [
        "import matplotlib.pyplot as plt\n",
        "\n",
        "# Akurasi data latih dan data uji\n",
        "train_accuracy = accuracy_score(y_train, model.predict(X_train))\n",
        "test_accuracy = accuracy_score(y_test, y_pred)\n",
        "\n",
        "print(train_accuracy)\n",
        "print(test_accuracy)\n",
        "# Membuat bar plot\n",
        "plt.figure(figsize=(8, 5))\n",
        "plt.bar(['Train Accuracy', 'Test Accuracy'], [train_accuracy, test_accuracy], color=['blue', 'green'])\n",
        "plt.ylim(0, 1)\n",
        "plt.title('Accuracy Comparison')\n",
        "plt.ylabel('Accuracy')\n",
        "plt.show()\n"
      ],
      "metadata": {
        "colab": {
          "base_uri": "https://localhost:8080/",
          "height": 503
        },
        "id": "SXWhCrX9BDA_",
        "outputId": "9dd90b73-b97d-4bd2-f426-4e221673e821"
      },
      "execution_count": 8,
      "outputs": [
        {
          "output_type": "stream",
          "name": "stdout",
          "text": [
            "0.9583333333333334\n",
            "1.0\n"
          ]
        },
        {
          "output_type": "display_data",
          "data": {
            "text/plain": [
              "<Figure size 800x500 with 1 Axes>"
            ],
            "image/png": "[encoded data removed]"
          },
          "metadata": {}
        }
      ]
    },
    {
      "cell_type": "code",
      "source": [
        "import pickle\n",
        "\n",
        "# Misalkan model Anda disimpan dalam variabel 'model'\n",
        "model_path = '/content/modelID3.pkl'\n",
        "with open(model_path, 'wb') as file:\n",
        "    pickle.dump(model, file)\n"
      ],
      "metadata": {
        "id": "KLx2oxpXGv3v"
      },
      "execution_count": null,
      "outputs": []
    },
    {
      "cell_type": "markdown",
      "source": [
        "<h1>PENJELASAN KODE</h1>"
      ],
      "metadata": {
        "id": "FAECnIoggThR"
      }
    },
    {
      "cell_type": "markdown",
      "source": [
        "<h2>INISIASI NODE TREE</h2>\n",
        "<p> pada awal algoritma kita harus membuat class yang berisi bagian dari tree untuk digunakan dalam pembuatan tree</p>"
      ],
      "metadata": {
        "id": "5-Rg30O5gobg"
      }
    },
    {
      "cell_type": "code",
      "source": [
        "class Node:\n",
        "    def __init__(self, feature=None, threshold=None, left=None, right=None, value=None):\n",
        "        self.feature = feature  # Fitur yang digunakan untuk memisahkan node\n",
        "        self.threshold = threshold  # Ambang batas pemisahan node\n",
        "        self.left = left  # Anak kiri dari node\n",
        "        self.right = right  # Anak kanan dari node\n",
        "        self.value = value  # Nilai prediksi jika node adalah leaf node"
      ],
      "metadata": {
        "id": "UsNNU4UxHJMo"
      },
      "execution_count": null,
      "outputs": []
    },
    {
      "cell_type": "code",
      "source": [
        "# Membuat instansi dari kelas Node\n",
        "node = Node(feature='Sepal Length', threshold=5.0, left=None, right=None, value='Setosa')\n",
        "\n",
        "# Mengakses atribut dari instansi Node\n",
        "print(\"Feature:\", node.feature)\n",
        "print(\"Threshold:\", node.threshold)\n",
        "print(\"Left child:\", node.left)\n",
        "print(\"Right child:\", node.right)\n",
        "print(\"Value:\", node.value)"
      ],
      "metadata": {
        "colab": {
          "base_uri": "https://localhost:8080/"
        },
        "id": "HO0sjzQlvAkw",
        "outputId": "8ed6b44f-fc32-461e-ce79-5d4b67493e3c"
      },
      "execution_count": null,
      "outputs": [
        {
          "output_type": "stream",
          "name": "stdout",
          "text": [
            "Feature: Sepal Length\n",
            "Threshold: 5.0\n",
            "Left child: None\n",
            "Right child: None\n",
            "Value: Setosa\n"
          ]
        }
      ]
    },
    {
      "cell_type": "markdown",
      "source": [
        "<p>NOTE: kita bisa mengambil variabel di dalam metode suatu kelas untuk dipakai di kelas lain dengan membuat objek kelas tersebut</p>"
      ],
      "metadata": {
        "id": "Oo3L-oxNtGSI"
      }
    },
    {
      "cell_type": "markdown",
      "source": [
        "<h2>INISIASI VARIABEL KEDALAMAN MAXIMAL POHON</h2>\n",
        "<p>Lalu pada kelas lain kita buat kelas baru untuk model kita yang bernama DecisionTreeID3, model ini akan mengambil variabekl dari kelas Node untuk dikembangkan menjadi suatu algoritma.\n",
        "\n",
        "metode pertama kelas ini kita gunkana untuk menginsiasi kedalaman tree yang dibutuhkan untuk memecahkan masalah</p>"
      ],
      "metadata": {
        "id": "D8DEtP6OuTEf"
      }
    },
    {
      "cell_type": "code",
      "source": [
        "class DecisionTreeID3:\n",
        "    def __init__(self, max_depth=None):\n",
        "        self.max_depth = max_depth  # Maksimal kedalaman pohon"
      ],
      "metadata": {
        "id": "UDTSntfktFWn"
      },
      "execution_count": null,
      "outputs": []
    },
    {
      "cell_type": "code",
      "source": [
        "dc_tree = DecisionTreeID3(10)\n",
        "print(dc_tree.max_depth)"
      ],
      "metadata": {
        "colab": {
          "base_uri": "https://localhost:8080/"
        },
        "id": "KX0OHQ8fu-dW",
        "outputId": "9a5329c9-f07b-45c3-8183-463eb2f9491e"
      },
      "execution_count": null,
      "outputs": [
        {
          "output_type": "stream",
          "name": "stdout",
          "text": [
            "10\n"
          ]
        }
      ]
    },
    {
      "cell_type": "markdown",
      "source": [
        "<h2>KALKULASI ENTROPY SUATU DATA</h2>\n",
        "<p>Entropy bisa dikatakan sebagai kebutuhan bit untuk menyatakan suatu kelas. Semakin  kecil nilai Entropy maka semakin baik untuk digunakan dalam mengekstraksi suatu  kelas.\n",
        "\n",
        "Dalam code ini, kita gunakan fungsi numpy untuk menghitung entropy target data yang kita masukkan </p>"
      ],
      "metadata": {
        "id": "Vf9QRhH-vWIc"
      }
    },
    {
      "cell_type": "code",
      "source": [
        "# def _entropy(y):\n",
        "#     # Hitung entropi dari kelas target\n",
        "#     classes, counts = np.unique(y, return_counts=True)\n",
        "#     probs = counts / len(y)\n",
        "#     entropy = -np.sum(probs * np.log2(probs))\n",
        "#     return entropy\n",
        "\n",
        "def _entropy(y):\n",
        "  # Hitung entropi dari kelas target\n",
        "  unique_classes = set(y)\n",
        "  entropy = 0\n",
        "  total_samples = len(y)\n",
        "  for cls in unique_classes:\n",
        "    class_count = sum(1 for label in y if label == cls)\n",
        "    class_prob = class_count / total_samples\n",
        "    entropy -= class_prob * math.log2(class_prob)\n",
        "  return entropy\n",
        "\n",
        "print(_entropy('setosa'))\n",
        "print(_entropy('versicolor'))\n",
        "print(_entropy('virginica'))"
      ],
      "metadata": {
        "colab": {
          "base_uri": "https://localhost:8080/"
        },
        "id": "axM2t0H6vTrh",
        "outputId": "5b24befb-1398-4b1e-cbc4-d352e6c3bf60"
      },
      "execution_count": 10,
      "outputs": [
        {
          "output_type": "stream",
          "name": "stdout",
          "text": [
            "2.2516291673878226\n",
            "2.9219280948873623\n",
            "2.6416041678685933\n"
          ]
        }
      ]
    },
    {
      "cell_type": "markdown",
      "source": [
        "<h2>INFORMASI YANG DI GAIN HASIL ENTROPY</h2>\n",
        "<p>gain informasi adalah salah satu teknik yang ada di decision tree yang digunakan untuk pemilihan suatu atribut.\n",
        "\n",
        "Information Gain: pengurangan entropy disebabkan oleh partisi berdasarkan  suatu atribut.\n",
        "\n",
        "\n",
        "Semakin besar info gain = atribut itu semakin membuat homogen = semakin  bagus\n",
        "\n",
        "didalam code, kami menggunakan hasil entorpy, threshold, dan fitur untuk untuk mencari gain yang terbaik. Gain terbaik tersebut kita juga gunakan untuk mencari fitur dan threshold terbaik juga</p>"
      ],
      "metadata": {
        "id": "oQY_jMjyxU5s"
      }
    },
    {
      "cell_type": "code",
      "source": [
        "def _information_gain(X, y, feature, threshold):\n",
        "    # Hitung gain informasi untuk suatu fitur dan ambang tertentu\n",
        "    left_indices = X[:, feature] <= threshold\n",
        "    right_indices = ~left_indices\n",
        "    left_entropy = _entropy(y[left_indices])\n",
        "    right_entropy = _entropy(y[right_indices])\n",
        "    n = len(y)\n",
        "    left_weight = sum(left_indices) / n\n",
        "    right_weight = sum(right_indices) / n\n",
        "    gain = _entropy(y) - (left_weight * left_entropy + right_weight * right_entropy)\n",
        "    return gain\n"
      ],
      "metadata": {
        "id": "oPbwwjsCwWP9"
      },
      "execution_count": null,
      "outputs": []
    },
    {
      "cell_type": "code",
      "source": [
        "X_train = np.array([[5, 7, 3.2, 1.2, 0.4],\n",
        "                    [5, 2, 3.3, 1.4, 0.5],\n",
        "                    [6.3, 4.4, 1.5, 1.6, 0.6],\n",
        "                    [4.9, 4.1, 1.6, 0.7, 0.7],\n",
        "                    [5, 3.6, 1.7, 0.8, 0.8]])\n",
        "y_train = np.array([0, 0, 1, 1, 1])  # Contoh label kelas untuk data latih\n",
        "\n",
        "# Contoh pemanggilan _information_gain dengan data latih contoh\n",
        "feature = 2  # Pilih fitur ke-0\n",
        "threshold = 1.9  # Contoh ambang batas\n",
        "gain = _information_gain(X_train, y_train, feature, threshold)\n",
        "print(\"Information Gain:\", gain)\n"
      ],
      "metadata": {
        "colab": {
          "base_uri": "https://localhost:8080/"
        },
        "id": "Kj4U_sNGz1xH",
        "outputId": "28685658-fb33-4918-c16a-534902a725ef"
      },
      "execution_count": null,
      "outputs": [
        {
          "output_type": "stream",
          "name": "stdout",
          "text": [
            "Information Gain: 0.9709505944546686\n"
          ]
        }
      ]
    },
    {
      "cell_type": "markdown",
      "source": [
        "<h2>MEMISAH DAN MENCARI NILAI YANG TERBAIK</h2>\n",
        "<p> metode ini digunakan untuk mengoptimasi algoritam tree kita dengan mencari gain terabik, fitur terbaik, dan threshold terbaik di code kita</p>"
      ],
      "metadata": {
        "id": "LwcFDexB2tv4"
      }
    },
    {
      "cell_type": "code",
      "source": [
        "def _find_best_split(X, y):\n",
        "  # Temukan pemisahan terbaik untuk setiap fitur\n",
        "  best_gain = 0\n",
        "  best_feature = None\n",
        "  best_threshold = None\n",
        "  for feature in range(X.shape[1]):\n",
        "    thresholds = np.unique(X[:, feature])\n",
        "    for threshold in thresholds:\n",
        "      gain = _information_gain(X, y, feature, threshold)\n",
        "      if gain > best_gain:\n",
        "        best_gain = gain\n",
        "        best_feature = feature\n",
        "        best_threshold = threshold\n",
        "  return best_feature, best_threshold\n",
        "\n",
        "\n",
        "\n",
        "X_train = np.array([[5, 7, 3.2, 1.2, 0.4],\n",
        "                    [5, 2, 3.3, 1.4, 0.5],\n",
        "                    [6.3, 4.4, 1.5, 1.6, 0.6],\n",
        "                    [4.9, 4.1, 1.6, 0.7, 0.7],\n",
        "                    [5, 3.6, 1.7, 0.8, 0.8]])\n",
        "y_train = np.array([0, 0, 1, 1, 1])  # Contoh label kelas untuk data latih\n",
        "\n",
        "print(_find_best_split(X_train, y_train))"
      ],
      "metadata": {
        "colab": {
          "base_uri": "https://localhost:8080/"
        },
        "id": "IpaZHUeY6qEE",
        "outputId": "47f659de-d9ff-44e0-9b9c-5676043c123f"
      },
      "execution_count": null,
      "outputs": [
        {
          "output_type": "stream",
          "name": "stdout",
          "text": [
            "(2, 1.7)\n"
          ]
        }
      ]
    },
    {
      "cell_type": "markdown",
      "source": [
        "<h2>PEMBUATAN ALGORITMA TREE</h2>\n",
        "<p>Setelah kita mengetahui fitur, threshold, yang terbaik maka kita bisa define berapa node yang kita perlukan di tree kita dan bagaimana struktur kita. Pembuatan tree ini kami gunakan metode rekursif (bisa saja menggunakan iterasi)</p>"
      ],
      "metadata": {
        "id": "gWJkqCCt8NBP"
      }
    },
    {
      "cell_type": "code",
      "source": [
        "def _build_tree(X, y, depth):\n",
        "  # Rekursif membangun pohon keputusan\n",
        "  if depth == 0 or len(np.unique(y)) == 1:\n",
        "    # Jika sudah mencapai maksimal kedalaman atau semua sampel memiliki label yang sama\n",
        "    value = np.argmax(np.bincount(y))\n",
        "    return Node(value=value)\n",
        "\n",
        "  best_feature, best_threshold = _find_best_split(X, y)\n",
        "  if best_feature is None:\n",
        "    # Jika tidak ada pemisahan yang ditemukan (mungkin semua nilai fitur sama)\n",
        "    value = np.argmax(np.bincount(y))\n",
        "    return Node(value=value)\n",
        "\n",
        "  left_indices = X[:, best_feature] <= best_threshold\n",
        "  right_indices = ~left_indices\n",
        "  left_child = _build_tree(X[left_indices], y[left_indices], depth - 1)\n",
        "  right_child = _build_tree(X[right_indices], y[right_indices], depth - 1)\n",
        "\n",
        "  return Node(feature=best_feature, threshold=best_threshold, left=left_child, right=right_child)\n",
        "\n",
        "X_train = np.array([[5, 7, 3.2, 1.2, 0.4],\n",
        "                    [5, 2, 3.3, 1.4, 0.5],\n",
        "                    [6.3, 4.4, 1.5, 1.6, 0.6],\n",
        "                    [4.9, 4.1, 1.6, 0.7, 0.7],\n",
        "                    [5, 3.6, 1.7, 0.8, 0.8]])\n",
        "y_train = np.array([0, 0, 1, 1, 1])  # Contoh label kelas untuk data latih\n",
        "depth = 2\n",
        "print(_build_tree(X_train, y_train, depth).feature)\n",
        "print(_build_tree(X_train, y_train, depth).threshold)\n",
        "print(_build_tree(X_train, y_train, depth).left) # memmory address dimana node kiri di tempatkan\n",
        "print(_build_tree(X_train, y_train, depth).right) #memmory address dimana node kanan di tempatkan"
      ],
      "metadata": {
        "colab": {
          "base_uri": "https://localhost:8080/"
        },
        "id": "_pUnG3e89JaA",
        "outputId": "e41490d7-eb69-4a63-988c-ac70b01448c1"
      },
      "execution_count": null,
      "outputs": [
        {
          "output_type": "stream",
          "name": "stdout",
          "text": [
            "2\n",
            "1.7\n",
            "<__main__.Node object at 0x7e733004c370>\n",
            "<__main__.Node object at 0x7e733004d060>\n"
          ]
        }
      ]
    },
    {
      "cell_type": "markdown",
      "source": [
        "<h2>FIT DATA KE MODEL</h2>\n",
        "<p> Dalam kelas tree kita, kita perlu metode untuk memasukkan data kita agar bisa di modelkan. Metode fit ini kita gunakan untuk memasukkan semua data kita agar bisa di proses oleh model</p>"
      ],
      "metadata": {
        "id": "Vmpa_ntT7tWa"
      }
    },
    {
      "cell_type": "code",
      "source": [
        "def fit(X, y, dep):\n",
        "  # Membangun pohon keputusan dari data latih\n",
        "  root = _build_tree(X, y, dep)\n",
        "  return root\n",
        "\n",
        "X_train = np.array([[5, 7, 3.2, 1.2, 0.4],\n",
        "                    [5, 2, 3.3, 1.4, 0.5],\n",
        "                    [6.3, 4.4, 1.5, 1.6, 0.6],\n",
        "                    [4.9, 4.1, 1.6, 0.7, 0.7],\n",
        "                    [5, 3.6, 1.7, 0.8, 0.8]])\n",
        "y_train = np.array([0, 0, 1, 1, 1])  # Contoh label kelas untuk data latih\n",
        "print(fit(X_train, y_train, 2))"
      ],
      "metadata": {
        "colab": {
          "base_uri": "https://localhost:8080/"
        },
        "id": "k8JCYulW7axC",
        "outputId": "b217758e-a31a-4fcd-b55c-73103e23c02b"
      },
      "execution_count": null,
      "outputs": [
        {
          "output_type": "stream",
          "name": "stdout",
          "text": [
            "<__main__.Node object at 0x7e73376f7ac0>\n"
          ]
        }
      ]
    },
    {
      "cell_type": "markdown",
      "source": [
        "<h2>METODE UNTUK PREDIKSI MODEL</h2>\n",
        "<p>Akhirnya kita bisa buat metode predict di dalam kelas untuk memprediksi data menggunakan tree yang sudah kita buat</p>"
      ],
      "metadata": {
        "id": "9XX3JET4_UbK"
      }
    },
    {
      "cell_type": "markdown",
      "source": [
        "<p> NOTE: sel berikut ini apabila di run akan stuck di loop selesai karena data terbatasi dan tidak ada child nore lanjutan</p>"
      ],
      "metadata": {
        "id": "6zUofQCCBk_4"
      }
    },
    {
      "cell_type": "code",
      "source": [
        "def _predict(x, node):\n",
        "  # Mulai dari root node\n",
        "  current_node = fit(X_train, y_train, 2)\n",
        "  while True:\n",
        "    # Jika node adalah leaf node, kembalikan nilai prediksi\n",
        "    if current_node.value is not None:\n",
        "      return current_node.value\n",
        "      # Jika fitur dari sampel kurang dari atau sama dengan ambang batas node saat ini,\n",
        "      # pindah ke anak kiri\n",
        "      if x[current_node.feature] <= current_node.threshold:\n",
        "        current_node = current_node.left\n",
        "        # Jika fitur dari sampel lebih besar dari ambang batas node saat ini,\n",
        "        # pindah ke anak kanan\n",
        "      else:\n",
        "        current_node = current_node.right\n",
        "\n",
        "\n",
        "def predict(X):\n",
        "  # Prediksi label kelas untuk setiap sampel dalam X\n",
        "  return [_predict(x, fit(X_train, y_train, 2)) for x in X]\n",
        "\n",
        "\n",
        "\n",
        "X_test = np.array([[6.5, 3.5, 5.5, 2.5],\n",
        "                   [5.5, 2.8, 4.5, 1.8]])\n",
        "\n",
        "print(predict(X_test))"
      ],
      "metadata": {
        "id": "H0dY1JFz-9My"
      },
      "execution_count": null,
      "outputs": []
    },
    {
      "cell_type": "markdown",
      "source": [
        "<h3>Dalam kelas tree, terdapat code tambahan untuk mengvisualisasi tree yang telah di buat. Ketika metode tersebut dipanggil. kita akan mendapat file png, pdf dan satu lagi file keterangan yang berberntuk digrapg</h3>"
      ],
      "metadata": {
        "id": "WVEyudF_Clwb"
      }
    },
    {
      "cell_type": "code",
      "source": [
        "def _to_dot(node, dot):\n",
        "  if node is None:\n",
        "    return\n",
        "\n",
        "  dot.node(str(id(node)), label=f\"Feature: {node.feature}\\nThreshold: {node.threshold}\\nValue: {node.value}\")\n",
        "\n",
        "  if node.left is not None:\n",
        "    dot.edge(str(id(node)), str(id(node.left)), label=\"<= Threshold\")\n",
        "\n",
        "  if node.right is not None:\n",
        "    dot.edge(str(id(node)), str(id(node.right)), label=\"> Threshold\")\n",
        "\n",
        "  _to_dot(node.left, dot)\n",
        "  _to_dot(node.right, dot)\n",
        "\n",
        "def display_tree():\n",
        "  dot = Digraph()\n",
        "  self._to_dot(self.root, dot)\n",
        "  dot.render('decision_tree', format='png', cleanup=True)\n",
        "  dot.view()\n"
      ],
      "metadata": {
        "id": "O66ve90vAsco"
      },
      "execution_count": null,
      "outputs": []
    },
    {
      "cell_type": "code",
      "source": [],
      "metadata": {
        "id": "cKXmGnadD3bc"
      },
      "execution_count": null,
      "outputs": []
    }
  ]
}